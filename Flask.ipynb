{
  "nbformat": 4,
  "nbformat_minor": 0,
  "metadata": {
    "colab": {
      "provenance": [],
      "authorship_tag": "ABX9TyNtRukpb19RPfIw7zE6GhKf"
    },
    "kernelspec": {
      "name": "python3",
      "display_name": "Python 3"
    },
    "language_info": {
      "name": "python"
    }
  },
  "cells": [
    {
      "cell_type": "markdown",
      "source": [
        " # 1. What is a Web API?\n",
        "\n",
        " Web A.P.I. also known as Application Programming Interface for the Web, Is used\n",
        "as a medium to connect software applications with each other for desired\n",
        "purposes from web."
      ],
      "metadata": {
        "id": "JSET7vHkrjOG"
      }
    },
    {
      "cell_type": "markdown",
      "source": [
        "# 2. How does a Web API differ from a web service?\n",
        "\n",
        "Web API are the Application Programming interface for web which is used␣\n",
        "↪to connect software applications with each other for desired purposes from␣\n",
        "↪web, While web services provide the services or propogates between server␣\n",
        "↪and applications."
      ],
      "metadata": {
        "id": "CM6DeIPVrpMm"
      }
    },
    {
      "cell_type": "markdown",
      "source": [
        "# 3.What are the benefits of using Web API in software development?\n",
        "The benefits of using Web API in software development are -->\\n 1.\n",
        "↪Supports convention based on CRUD actions, Since it works with GET, POST,␣\n",
        "↪PUT, and DELETE\\n 2.Supports many file format XML, JSON\\n 3.Many accepts &␣\n",
        "↪supports the non-object oriented file such as images and pdf's."
      ],
      "metadata": {
        "id": "xywv2Vm3rr-N"
      }
    },
    {
      "cell_type": "markdown",
      "source": [
        "#4. Explain the difference beetween SOAP and RESTful api's\n",
        "\n",
        "soap is known as the Simple Object Access Provider which is used to send␣\n",
        "↪or recieve messeges which only reads XML file, while the Restful A.P.I.'s␣\n",
        "↪are the Representational A.P.I. which supports all XML, HTML, JSON etc␣\n",
        "↪files\\nSOAP is more complex with lots of standards for security,␣\n",
        "↪transactions and ACIDS while, RESTFUL API uses simple HTTP method which␣\n",
        "↪are(GET, POST, PUT, DELETE)\n"
      ],
      "metadata": {
        "id": "qEDqUSDBruyE"
      }
    },
    {
      "cell_type": "markdown",
      "source": [
        " # 5. What is JSON and how is it commonly used in Web api\n",
        "Json also known as Java Script Object Notation it is used for␣\n",
        "↪transmitting & interacting with the web A.P.I.s"
      ],
      "metadata": {
        "id": "q7f9i4M6rxnN"
      }
    },
    {
      "cell_type": "markdown",
      "source": [
        " # 6. Can you name some proper Web A.P.I. protocols other than REST\n",
        "\n",
        "Some proper Web A.P.I.s protocols other than REST are =>\n",
        "1.GraphQl\n",
        "2.GRPC\n",
        "3.Web Sockets\n",
        "4.MQTT\n"
      ],
      "metadata": {
        "id": "q9fMLO0or1mO"
      }
    },
    {
      "cell_type": "markdown",
      "source": [
        "# 7. What role do HTTP methods (GET, PUT, POST, DELETE etc.) play in web␣\n",
        "\n",
        "The HTTP methods have their specific use as follows =>\n",
        "GET => Get is used to ask the retrieves data from the server to the client.\n",
        "PUT => Updates or Creates resource on a server by sending data.\n",
        "POST => The POST method is a request method that sends data to the server.\n",
        "DELETE => Delete method is used to delete any data from the server.\n"
      ],
      "metadata": {
        "id": "VcZ9_1Xpr5MA"
      }
    },
    {
      "cell_type": "markdown",
      "source": [
        "# 8. What is the purpose of authentication and aurthorization in web api ?\n",
        "Authentication is knowing the author's username and password and␣\n",
        "↪server uses username and password for authenticating to it.\\nWhile,␣\n",
        "↪Aurthorization is used to provide the access to a particular action.\n"
      ],
      "metadata": {
        "id": "n3hriyNbr9QC"
      }
    },
    {
      "cell_type": "markdown",
      "source": [
        "# 9.How can you handle versioning in Web API development ?\n",
        "Web API Versioning can be done by using the following methods:\n",
        "URI\n",
        "QueryString parameter\n",
        "Custom Header parameter\n",
        "Accept Header parameter\n"
      ],
      "metadata": {
        "id": "XQkAKj1AsBGr"
      }
    },
    {
      "cell_type": "markdown",
      "source": [
        "# 10. What are the main omponents of an HTTP request and response in the context␣\n",
        "↪of Web Apis?\n",
        "The main components of HTTP reques and response in context of Web Api␣\n",
        "↪are, GET, POST, PUT, DELETE"
      ],
      "metadata": {
        "id": "zHC2TmnIsFuw"
      }
    },
    {
      "cell_type": "markdown",
      "source": [
        " # 11. Describe the concept of rate limiting in the context of Web A.P.I.?\n",
        "\n",
        "Rate limiting is a process that limits the number of requests that can␣\n",
        "↪be made to a web API withing a specific time frame."
      ],
      "metadata": {
        "id": "fVEHEuYPsIrQ"
      }
    },
    {
      "cell_type": "markdown",
      "source": [
        "# 12.How can you handle errors and exceptions in Web API responses?\n",
        "\n",
        "We can handle erros and exceptions in Web API's by using try-except␣\n",
        "↪method."
      ],
      "metadata": {
        "id": "Yzk9M_rIsLcI"
      }
    },
    {
      "cell_type": "markdown",
      "source": [
        "# 13. Explain the concept of statelessness in RESTful Web API's ?\n",
        "\n",
        "Statelessness communication method where the server handles each␣\n",
        "↪client request independently of previous request. This means client can␣\n",
        "↪request the server in any order, and each request is isolated from others.\n",
        "↪"
      ],
      "metadata": {
        "id": "ysg2W5sGsPmB"
      }
    },
    {
      "cell_type": "markdown",
      "source": [
        "# 14. What are the best practices of designing and documenting a web A.P.I.s?\n",
        "\n",
        "1.RESTful principles: Consider using a RESTful API design pattern,␣\n",
        "↪which is widely adopted and promotes simplicity, scalability, and␣\n",
        "↪interoperability.\\n2.Return Meaningful error messeges and standard error␣\n",
        "↪codes.\\n3.Resource naming: Use plural nouns for resource collections and␣\n",
        "↪lowercase letters for URIs.\n"
      ],
      "metadata": {
        "id": "VQuW8_HNsSoJ"
      }
    },
    {
      "cell_type": "markdown",
      "source": [
        "# 15. What role do API keys and tokens play in securing web APIs ?\n",
        "\n",
        "API keys are used to identify the calling program or user making the␣\n",
        "↪request to the API.\n",
        "They act like a unique identifier or a password for the API.\\nAPI keys can be␣\n",
        "↪used to grant or restrict access to certain parts of an API.\n",
        "For instance, some API endpoints might require specific keys to access more␣\n",
        "↪sensitive data or functionalities.\\nTokens, especially OAuth tokens, are␣\n",
        "↪used to authenticate users or applications.\n",
        "When a user logs in, they receive a token that they can use to prove their␣\n",
        "↪identity in subsequent requests.\\nTokens often carry authorization␣\n",
        "↪information. They specify what actions the bearer of the token is allowed to␣\n",
        "↪perform and what resources they can access. This is commonly seen with OAuth␣\n",
        "↪2.0, where access tokens define the scope of access."
      ],
      "metadata": {
        "id": "KmNNXRlIsVxl"
      }
    },
    {
      "cell_type": "markdown",
      "source": [
        "#16. What is REST, and what are it's key principles ?\n",
        "\n",
        "Representational State Transfer(REST) is an architectural style that␣\n",
        "↪defines a set of constraints to be used for creating web services. Rest API\n",
        "is a way of accessing web services in simple and flexible way without having␣\n",
        "↪process.\n"
      ],
      "metadata": {
        "id": "5dl-dMcvsZpH"
      }
    },
    {
      "cell_type": "markdown",
      "source": [
        "#17. Explain the Difference between REST ful API ands and traditional web␣\n",
        "↪services. ?\n",
        "REST also known as Representational State Transfer is an architectural␣\n",
        "↪style that defines a set of constraints to be used for creating web services.\n",
        "It uses HTTP methods (GET, POST, PUT, DELETE)\n",
        "while the traditional is Protocol-Based:\n",
        "Uses SOAP protocol with strict rules and standards for communication."
      ],
      "metadata": {
        "id": "Q4x_brJsscFX"
      }
    },
    {
      "cell_type": "markdown",
      "source": [
        "#18. What are the main HTTP methods used in RESTful architecture, and what are␣\n",
        "↪their purposes ?\n",
        "The HTTP methods used in RESTful architecture are derived from CRUD␣\n",
        "↪operation which is (GET, PUT, POST, DELETE)\n",
        "5\n",
        "GET => It is used to fetch the data from the server.\n",
        "PUT => It is used to update the server.\n",
        "POST => It is used to post or upload the data to the server.\n",
        "DELETE => It is used to delete the data from the server."
      ],
      "metadata": {
        "id": "U378ldQ3shKb"
      }
    },
    {
      "cell_type": "markdown",
      "source": [
        " # 19. Describe concept of statelessness of RESTful APIs ?\n",
        "\n",
        "In RESTful APIs, statelessness means each client request must include␣\n",
        "↪all information needed for the server to process it independently, without␣\n",
        "↪relying on stored session data. This approach enhances scalability and␣\n",
        "↪reliability, as servers do not need to maintain session state, allowing for␣\n",
        "↪easier load balancing and caching. The responsibility for maintaining state␣\n",
        "↪lies with the client, typically through mechanisms like authentication␣\n",
        "↪tokens sent with each request."
      ],
      "metadata": {
        "id": "fZbzE_i0skON"
      }
    },
    {
      "cell_type": "markdown",
      "source": [
        "# 20. What is the significance of U.R.I. (Uniform Resource Identifier) in␣\n",
        "↪RESTful API design ?\n",
        "The Significane of U.R.I. is Uniform Resource Identifier which creates␣\n",
        "↪the routes that helps client to request from the server.It consists of␣\n",
        "↪sub-domain, domain, port number, path\n"
      ],
      "metadata": {
        "id": "e4v9yp9hsomr"
      }
    },
    {
      "cell_type": "markdown",
      "source": [
        "# 21.Explain the role of hypermedia in RESTful A.P.I.s . How does it relate to␣\n",
        "↪HATEOAS ?\n",
        "The hypermedia is used to share the links, images, video and texts which␣\n",
        "↪ enhance the RESTful APIs in several ways. Hypermedia is related to HATEOS␣\n",
        "↪as Hypermedia As The Engine State of Application that enables a navigation␣\n",
        "↪for the client to access through the server."
      ],
      "metadata": {
        "id": "Klm7jhTAss4y"
      }
    },
    {
      "cell_type": "markdown",
      "source": [
        " # 22. What are the benefits of using RESTful APIs over the achitectural styles ?\n",
        "\n",
        "The benefits of RESTful APIs are:\n",
        "1. Scability: Systems that implement REST APIs can scale efficiently becaurse␣\n",
        "↪REST optimizes client-server interactions. Statelessness removes server load␣\n",
        "↪because the server does not have to retain past client request information.␣\n",
        "↪WEll-managed caching partially or completely eliminates some client-server␣\n",
        "↪interactions. All these features support scalability witout causing␣\n",
        "↪communication bottlenecks that reduce performance.\n",
        "2. Flexibility: RESTful web services support total client-server separation.␣\n",
        "↪That simplify and decouple various server components so that each part can␣\n",
        "↪evolve independently. Platform or technology changes at the server␣\n",
        "↪application do not affect the client application. Platform or technology␣\n",
        "↪changes at the server application do not affect the client application. The␣\n",
        "↪ability to layer application functions increases flexibility even further.\n",
        "3. Independence: REST APIs are independent of the technology used. You can␣\n",
        "↪write both client and server applications in various programming languages␣\n",
        "↪without affecting the API design."
      ],
      "metadata": {
        "id": "tTty3KVGswws"
      }
    },
    {
      "cell_type": "markdown",
      "source": [
        "# 23. Discuss the concept of resource representations in RESTful APIs?\n",
        "\n",
        "The resource representation is the representation of a resource that␣\n",
        "↪is exchanged between client and sevrver in REST.\n"
      ],
      "metadata": {
        "id": "DLMUX0uRsyvA"
      }
    },
    {
      "cell_type": "markdown",
      "source": [
        "# 24. How does REST handle communication between clients and servers ?\n",
        "\n",
        "The client use to send request to the server and it returns the␣\n",
        "↪appropriate response."
      ],
      "metadata": {
        "id": "SXxkLZyRs5Pr"
      }
    },
    {
      "cell_type": "markdown",
      "source": [
        "# 25. What are the common data formats used in RESTful A.P.I. formats ?\n",
        "\n",
        "The common data formats used in RESTful A.P.I.s are => XML, HTML,␣\n",
        "↪JSON"
      ],
      "metadata": {
        "id": "xMYXctMNs8Fb"
      }
    },
    {
      "cell_type": "markdown",
      "source": [
        "# 26. Explain the importance of status codes in RESTful API responses ?\n",
        "\n",
        "Status code plays a very crucial role in RESTful APIs it tells the␣\n",
        "↪status of the server whether the request has been accepted or been rejected␣\n",
        "↪common codes used are ==> 100, 200, 300, 400, 500\n",
        "100 is the informational, 200 is the rate of success, 300 is the code of␣\n",
        "↪re-direction, 400 is the code of client error.\n"
      ],
      "metadata": {
        "id": "9o3KfNo1s_Ay"
      }
    },
    {
      "cell_type": "markdown",
      "source": [
        "# 27. Describe the process of versioning in RESTful API development ?\n",
        "\n",
        "REST A.P.I. is the version of process of managing and tracking changes␣\n",
        "↪to an API, and communicating those changes to consumers."
      ],
      "metadata": {
        "id": "F_0gzcTTtB5T"
      }
    },
    {
      "cell_type": "markdown",
      "source": [
        "# 28. How can you ensure security in RESTful A.P.I. development ? What are␣\n",
        "↪common authentication methods ?\n",
        "Authentication verifies user identity, while authorization ensures users␣\n",
        "↪have the right permissions to access resources or perform actions. You can␣\n",
        "↪use OAuth, JWT, or basic authentication.\n"
      ],
      "metadata": {
        "id": "fm0LrN8StEdr"
      }
    },
    {
      "cell_type": "markdown",
      "source": [
        "# 29. What are the best practices for documenting RESTful A.P.I. ?\n",
        "\n",
        "The best practices for the documenting RESTful A.P.I.s are=>\n",
        "Versioning => We should set an approprirate versions by which we can update the␣\n",
        "↪best U.R.I. versions.\n",
        "Status codes => We should set appropriate status codes which returns accurate␣\n",
        "↪response.\n",
        "Plural nouns => We should set appropriate appropriate plural names at the␣\n",
        "↪endpoint... of the U.R.I. for example '/users' instead of '/user' which␣\n",
        "↪defines more than one users instead of one.\n",
        "Error handling => You should have a transparent process for handling errors and␣\n",
        "↪returning meaningful error messages to developers so they can quickly␣\n",
        "↪understand what went wrong and how to fix it."
      ],
      "metadata": {
        "id": "BQMVymgTtI9G"
      }
    },
    {
      "cell_type": "markdown",
      "source": [
        "# 30. what considerations should be made for error handling in restful api ?\n",
        "\n",
        "Use a standardized error response format: Maintain a consistent␣\n",
        "↪standard for error messages. For example, most REST APIs include fields like␣\n",
        "↪error , message , code (an internal error code specific to your␣\n",
        "↪application), and sometimes details for additional information."
      ],
      "metadata": {
        "id": "jmOxCj_3tL0h"
      }
    },
    {
      "cell_type": "markdown",
      "source": [
        "# 31. What is SOAP and how does it differ from REST ?\n",
        "Soap => S.O.A.P. (Simple Object Access Protocol) used for exchanging␣\n",
        "↪structured information XML messeges. It's often more complex, statefull, and␣\n",
        "↪has stricter standards.\n",
        "R.E.S.T. => R.E.S.T. (Representational State Transfer) used for Architectural␣\n",
        "↪style for designing network applications. Uses simpler states, stateless␣\n",
        "↪operations, over HTTP with flexible Data formats."
      ],
      "metadata": {
        "id": "oKBEoTGAtOEf"
      }
    },
    {
      "cell_type": "markdown",
      "source": [
        "# 32. Describe the structure of S.O.A.P. messege ?\n",
        "\n",
        "The structure of a SOAP message typically consists of three main parts:\n",
        "Envelope: The root element encapsulating the entire SOAP message.\n",
        "Header: Optional section for including additional metadata or information about␣\n",
        "↪the SOAP message.\n",
        "Body: Contains the main content of the SOAP message, which could be a request,␣\n",
        "↪response, or fault details."
      ],
      "metadata": {
        "id": "CTHhUCzktQ8s"
      }
    },
    {
      "cell_type": "markdown",
      "source": [
        "# 34. What are the advantages and disadvantages of SOAP-Based Services ?\n",
        "\n",
        "Advantages:\n",
        "Standardized Protocol: SOAP is based on standardized XML messeging format,␣\n",
        "↪using interperobility between different systems and platforms.\n",
        "Security: Supports built-in WS-Security for securing the messeges and␣\n",
        "↪transactions.\n",
        "Reliability: Includes built-in error handling and fault tolerance through SOAP␣\n",
        "↪fault messeges.\n",
        "Extensibility: Supports complex operations and message exchange patterns,␣\n",
        "↪suitable for enterprise-level applications.\n",
        "Language and Platform Independence: Can be implemented in various programming␣\n",
        "↪languages and run on different platforms\n",
        "\n",
        "Dis-advantages:\n",
        "Complexity: SOAP messages are verbose due to XML formatting, making them larger␣\n",
        "↪and potentially slower over the network.\n",
        "Overhead: Requires more bandwidth and resources compared to simpler protocols␣\n",
        "↪like REST, which can affect performance.\n",
        "Learning Curve: Implementing and understanding SOAP can be more challenging due␣\n",
        "↪to its complexity and strict standards.\n",
        "Limited Browser Support: SOAP is not well-supported by web browsers, primarily␣\n",
        "↪used for server-to-server communication.\n",
        "Tooling: Requires specialized tooling and frameworks to generate and process␣\n",
        "↪SOAP messages, which can add to development overhead."
      ],
      "metadata": {
        "id": "MY_B91h8tXoA"
      }
    },
    {
      "cell_type": "markdown",
      "source": [
        "# 35. How does S.O.A.P. ensure security in Web-Service communication ?\n",
        "\n",
        "S.O.A.P(Simple Object Access Protocols) stores the whole data inside␣\n",
        "↪the envelope which encapsulates & hide the information from the mallicious␣\n",
        "↪users.\\nIt also follow T.L.S. Transport layer Security which provide␣\n",
        "↪encryption\\nIt supports WS-security standards that enables signature and␣\n",
        "↪encryption methods.\\n SOAP headers can include security-related information␣\n",
        "↪such as authentication tokens or digital signatures, allowing clients and␣\n",
        "↪servers to exchange secure information within the SOAP message structure."
      ],
      "metadata": {
        "id": "gcGky9oFtha-"
      }
    },
    {
      "cell_type": "markdown",
      "source": [
        "# 36. What is flask and what make it different from other web frameworks ?\n",
        "\n",
        "Flask is the python library or frame work which is used to set web A.P.I.\n",
        "↪s for the client and the server.\\nIt is different from other frame works␣\n",
        "↪because it uses Read-able code and languages, Simplicity and Minimiliasm,␣\n",
        "↪Flask gives developers the freedom to structure their applications as they␣\n",
        "↪see fit. It does not impose a specific directory structure or project␣\n",
        "↪layout, unlike some other frameworks that have more rigid conventions"
      ],
      "metadata": {
        "id": "OU2HUqGvtlKU"
      }
    },
    {
      "cell_type": "markdown",
      "source": [
        "# 37. Describe the basic structure of Flask application ?\n",
        "\n",
        "The basic structure of flask application is:\n",
        "Import Flask: Start by importing the Flask class from the flask package.\n",
        "Create an Application Instance: Create an instance of the Flask class, which␣\n",
        "↪represents your web application.\n",
        "Define Routes and Views: Define routes using the @app.route() decorator to map␣\n",
        "↪URLs to Python functions (views) that handle those URLs.\n",
        "Define Views (Route Handlers): Write functions (view functions) for each route␣\n",
        "↪that render templates or return data.\n",
        "Run the Application: Finally, run the Flask application using app.run() to␣\n",
        "↪start the development server."
      ],
      "metadata": {
        "id": "PV_bh3X3tn_M"
      }
    },
    {
      "cell_type": "markdown",
      "source": [
        "# 38. How to install Flask from on your local machine ?\n",
        "\n",
        "To install Flask we have follow some steps:\n",
        "1. Create a python Virtual Environment and activate it .\n",
        "2. Now, Install the flask from P.I.P. by initiating command pip install flask\n",
        "3. Now, Import flask form the flask library"
      ],
      "metadata": {
        "id": "5v4nhMl7tqyC"
      }
    },
    {
      "cell_type": "markdown",
      "source": [
        "# 39. Explain the concept of routing in Flask ?\n",
        "\n",
        "Routing in Flask allows you to define how URLs are handled by your␣\n",
        "↪application. It maps URLs to Python functions (view functions) that generate␣\n",
        "↪HTTP responses. Routes can be static or dynamic, handle different HTTP␣\n",
        "↪methods, and support URL building for improved flexibility and␣\n",
        "↪maintainability in web application development."
      ],
      "metadata": {
        "id": "5MW3Ta3_ttvC"
      }
    },
    {
      "cell_type": "markdown",
      "source": [
        "# 40. What are the flask templates and how are they used in web development ?\n",
        "\n",
        "Flask templates are HTML files that integrate with Flask using the␣\n",
        "↪Jinja2 templating engine. They enable developers to create dynamic web pages␣\n",
        "↪by embedding Python code and placeholders for variables. Templates are␣\n",
        "↪essential for separating presentation and business logic in web␣\n",
        "↪applications, facilitating maintainability and extensibility in development␣\n",
        "↪projects."
      ],
      "metadata": {
        "id": "BaEEwG7FtxvE"
      }
    },
    {
      "cell_type": "code",
      "source": [],
      "metadata": {
        "id": "nUron0ayvnFv"
      },
      "execution_count": null,
      "outputs": []
    }
  ]
}