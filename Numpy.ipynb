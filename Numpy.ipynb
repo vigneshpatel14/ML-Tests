{
 "cells": [
  {
   "cell_type": "code",
   "execution_count": 1,
   "id": "b397d0aa-5451-404f-bde3-ec06b589a357",
   "metadata": {},
   "outputs": [],
   "source": [
    "import numpy as np\n",
    "import pandas as pd\n",
    "import seaborn as sns\n",
    "import matplotlib.pyplot as plt\n",
    "\n",
    "import warnings\n",
    "warnings.filterwarnings('ignore')"
   ]
  },
  {
   "cell_type": "markdown",
   "id": "dcb47c64-a0f3-4467-a847-8184f1350a14",
   "metadata": {},
   "source": [
    "# 1.Create a NumPy array 'arr' of integers from 0 to 5 and print its data type"
   ]
  },
  {
   "cell_type": "code",
   "execution_count": 2,
   "id": "5e490cec-ff8d-4840-8482-d9947139c7fd",
   "metadata": {},
   "outputs": [
    {
     "name": "stdout",
     "output_type": "stream",
     "text": [
      "int32\n",
      "\n",
      "\n",
      " <class 'numpy.ndarray'>\n"
     ]
    }
   ],
   "source": [
    "arr = np.arange(0,6)\n",
    "print(arr.dtype)\n",
    "print(\"\\n\\n\",type(arr))"
   ]
  },
  {
   "cell_type": "markdown",
   "id": "4e4fd82d-7a20-419c-8421-e1e170394130",
   "metadata": {},
   "source": [
    "# 2.Given a NumPy array 'arr', check if its data type is float64"
   ]
  },
  {
   "cell_type": "code",
   "execution_count": 3,
   "id": "9005f85e-1610-4bd0-b14e-178f3c3f8675",
   "metadata": {},
   "outputs": [
    {
     "name": "stdout",
     "output_type": "stream",
     "text": [
      "float64\n"
     ]
    }
   ],
   "source": [
    "arr = np.array([1.5 , 2.6 , 3.7])\n",
    "print(arr.dtype)"
   ]
  },
  {
   "cell_type": "markdown",
   "id": "c6d43299-fef3-4ddd-b483-142500bbd63f",
   "metadata": {},
   "source": [
    "# 3.Create a NumPy array 'arr' with a data type of complex128 containing three complex numbers"
   ]
  },
  {
   "cell_type": "code",
   "execution_count": 4,
   "id": "7cd70b56-50ca-47d3-81c1-a21de45e342c",
   "metadata": {},
   "outputs": [
    {
     "name": "stdout",
     "output_type": "stream",
     "text": [
      "complex128\n",
      "\n",
      "[3. +2.j 1.+14.j 2. +7.j]\n"
     ]
    }
   ],
   "source": [
    "arr = np.array([3 + 2j , 1+14j , 2 + 7j])\n",
    "\n",
    "print(arr.dtype , end = \"\\n\\n\")\n",
    "\n",
    "print(arr)"
   ]
  },
  {
   "cell_type": "markdown",
   "id": "ed971067-6e68-442b-a0be-8fb50a81d7fd",
   "metadata": {},
   "source": [
    "# 4.Convert an existing NumPy array 'arr' of integers to float32 data type"
   ]
  },
  {
   "cell_type": "code",
   "execution_count": 5,
   "id": "9724a65a-bba6-4c5d-a766-94651b933c43",
   "metadata": {},
   "outputs": [
    {
     "name": "stdout",
     "output_type": "stream",
     "text": [
      "Array data type before:  int32\n",
      "Array data type after converting:  float64\n"
     ]
    }
   ],
   "source": [
    "arr = np.arange(10)\n",
    "\n",
    "print(\"Array data type before: \",arr.dtype)\n",
    "\n",
    "arr = arr.astype(float)\n",
    "\n",
    "print(\"Array data type after converting: \", arr.dtype)"
   ]
  },
  {
   "cell_type": "markdown",
   "id": "fdd0538a-15ba-436a-8798-64910d159574",
   "metadata": {},
   "source": [
    "# 5.Given a NumPy array 'arr' with float64 data type, convert it to float32 to reduce decimal precision"
   ]
  },
  {
   "cell_type": "code",
   "execution_count": 6,
   "id": "a51a4619-5560-4c72-899a-a3ea54a1805c",
   "metadata": {},
   "outputs": [
    {
     "name": "stdout",
     "output_type": "stream",
     "text": [
      "float32\n",
      "[1.1234568 2.9876542 3.1415927]\n"
     ]
    }
   ],
   "source": [
    "arr = np.array([1.123456789, 2.987654321, 3.1415926535] , dtype = np.float64)\n",
    "\n",
    "arr = arr.astype(np.float32)\n",
    "\n",
    "print(arr.dtype)\n",
    "\n",
    "print(arr)"
   ]
  },
  {
   "cell_type": "markdown",
   "id": "1b322a5e-bc5f-4d11-8155-8eb2e8074ffb",
   "metadata": {},
   "source": [
    "# 6.Write a function array_attributes that takes a NumPy array as input and returns its shape, size, and datatype"
   ]
  },
  {
   "cell_type": "code",
   "execution_count": 7,
   "id": "0c0757cf-cc19-48b9-be7d-6a229c55a24e",
   "metadata": {},
   "outputs": [
    {
     "name": "stdout",
     "output_type": "stream",
     "text": [
      "Shape: (2, 3) \n",
      "Size: 6 \n",
      "Data type: float64\n"
     ]
    }
   ],
   "source": [
    "def fun(arr):\n",
    "    return arr.shape , arr.size , arr.dtype\n",
    "\n",
    "\n",
    "# input_user = input(\"Enter the array elements separated by spaces: \")\n",
    "# arr = np.array([float(x) for x in input_user.split()])\n",
    "\n",
    "# arr = np.array([float(x) for x in input(\"Enter elements with spaces \").split()])\n",
    "\n",
    "arr = np.array([[1,2,3] , [4 ,5 ,6]] ,dtype = np.float64)\n",
    "\n",
    "k = fun(arr)\n",
    "\n",
    "print(f\"Shape: {k[0]} \\nSize: {k[1]} \\nData type: {k[2]}\")"
   ]
  },
  {
   "cell_type": "markdown",
   "id": "d099b777-1d9a-420f-8344-637504bcf2f3",
   "metadata": {},
   "source": [
    "# 7.Create a function array_dimension that takes a NumPy array as input and returns its dimensionality"
   ]
  },
  {
   "cell_type": "code",
   "execution_count": 8,
   "id": "1a36a0ce-dffa-40aa-997a-b9cebd2c156f",
   "metadata": {},
   "outputs": [
    {
     "data": {
      "text/plain": [
       "2"
      ]
     },
     "execution_count": 8,
     "metadata": {},
     "output_type": "execute_result"
    }
   ],
   "source": [
    "def array_dimension(arr):\n",
    "    return arr.ndim\n",
    "\n",
    "arr = np.array([[1,2,3] , [4 ,5 ,6]] ,dtype = np.float64)\n",
    "\n",
    "array_dimension(arr)"
   ]
  },
  {
   "cell_type": "markdown",
   "id": "d77ff392-8891-4421-8093-502474d4f775",
   "metadata": {},
   "source": [
    "# 8.Design a function item_size_info that takes a NumPy array as input and returns the item size and the total size in bytes"
   ]
  },
  {
   "cell_type": "code",
   "execution_count": 9,
   "id": "c34bde7e-fad6-491d-9f3a-6b06d8464e51",
   "metadata": {},
   "outputs": [
    {
     "data": {
      "text/plain": [
       "(4, 24)"
      ]
     },
     "execution_count": 9,
     "metadata": {},
     "output_type": "execute_result"
    }
   ],
   "source": [
    "def item_size_info(arr):\n",
    "    return arr.itemsize , arr.nbytes\n",
    "\n",
    "arr = np.array([[1,2,3] , [4 ,5 ,6]] ,dtype = np.int32)\n",
    "\n",
    "item_size_info(arr)\n",
    "\n",
    "#itemsize ante datatype oka size"
   ]
  },
  {
   "cell_type": "markdown",
   "id": "63f2f3b6-9aa4-4620-bb5e-dcaf43089a79",
   "metadata": {},
   "source": [
    "# 9.Create a function array_strides that takes a NumPy array as input and returns the strides of the array"
   ]
  },
  {
   "cell_type": "code",
   "execution_count": 10,
   "id": "3412568a-8acc-46a8-8586-c2ad9908cd95",
   "metadata": {},
   "outputs": [
    {
     "data": {
      "text/plain": [
       "(6, 2)"
      ]
     },
     "execution_count": 10,
     "metadata": {},
     "output_type": "execute_result"
    }
   ],
   "source": [
    "def array_strides(arr):\n",
    "    return arr.strides\n",
    "\n",
    "\n",
    "arr = np.array([[1,2,3] , [4,5,6]] , dtype = np.int16)\n",
    "\n",
    "array_strides(arr)\n",
    "\n",
    "#the stride of an array \n",
    "#(also referred to as increment, pitch or step size) is the number of locations \n",
    "#in memory between beginnings of successive array elements, measured in bytes or in units of the size of the array's elements"
   ]
  },
  {
   "cell_type": "markdown",
   "id": "54d50f68-916d-4eef-9b34-7419544f7dd1",
   "metadata": {},
   "source": [
    "# 10.Design a function shape_stride_relationship that takes a NumPy array as input and returns the shape and strides of the array"
   ]
  },
  {
   "cell_type": "code",
   "execution_count": 11,
   "id": "a6a702f4-7ce6-4774-a384-700ec70c8df0",
   "metadata": {},
   "outputs": [
    {
     "name": "stdout",
     "output_type": "stream",
     "text": [
      "The shape is: (2, 3)\n",
      "The Strides is (6, 2)\n"
     ]
    }
   ],
   "source": [
    "def shape_stride_relationship(arr):\n",
    "    return arr.shape , arr.strides\n",
    "\n",
    "arr = np.array([[1,2,3] , [4,5,6]] , dtype = np.int16)\n",
    "\n",
    "k = shape_stride_relationship(arr)\n",
    "\n",
    "print(f\"The shape is: {k[0]}\\nThe Strides is {k[1]}\")"
   ]
  },
  {
   "cell_type": "markdown",
   "id": "026f3dca-6f7d-47ed-9302-bd970e7abcb6",
   "metadata": {},
   "source": [
    "# 11.Create a function `create_zeros_array` that takes an integer `n` as input and returns a NumPy array of zeros with `n` elementss"
   ]
  },
  {
   "cell_type": "code",
   "execution_count": 12,
   "id": "b2e5751d-0fb7-4dc2-87f8-ff6cb2083255",
   "metadata": {},
   "outputs": [
    {
     "data": {
      "text/plain": [
       "array([[0., 0., 0.],\n",
       "       [0., 0., 0.],\n",
       "       [0., 0., 0.],\n",
       "       [0., 0., 0.]])"
      ]
     },
     "execution_count": 12,
     "metadata": {},
     "output_type": "execute_result"
    }
   ],
   "source": [
    "def create_zeros_array(n):\n",
    "    return np.zeros(n)\n",
    "\n",
    "\n",
    "create_zeros_array((4,3))"
   ]
  },
  {
   "cell_type": "markdown",
   "id": "ed83b5a8-9da2-48f0-a32d-6f7d93712cd4",
   "metadata": {},
   "source": [
    "# 12. Write a function `create_ones_matrix` that takes integers `rows` and `cols` as inputs and generates a 2D NumPy array filled with ones of size `rows x cols``"
   ]
  },
  {
   "cell_type": "code",
   "execution_count": 13,
   "id": "ad7345a5-ecd0-47ef-b6cf-7a68c28ff6ac",
   "metadata": {},
   "outputs": [
    {
     "data": {
      "text/plain": [
       "array([[1., 1., 1.],\n",
       "       [1., 1., 1.],\n",
       "       [1., 1., 1.],\n",
       "       [1., 1., 1.]])"
      ]
     },
     "execution_count": 13,
     "metadata": {},
     "output_type": "execute_result"
    }
   ],
   "source": [
    "def create_ones_matrix(rows , cols):\n",
    "    return np.ones((rows , cols))\n",
    "\n",
    "\n",
    "create_ones_matrix(4,3)"
   ]
  },
  {
   "cell_type": "markdown",
   "id": "e3a652a2-c456-4110-b81d-ded3b16e60a7",
   "metadata": {},
   "source": [
    "# 13.Write a function `generate_range_array` that takes three integers start, stop, and step as arguments and creates a NumPy array with a range starting from `start`, ending at stop (exclusive), and with the specified `step`p`"
   ]
  },
  {
   "cell_type": "code",
   "execution_count": 14,
   "id": "242b5340-1d1a-4d5e-bc83-95578d42f216",
   "metadata": {},
   "outputs": [
    {
     "data": {
      "text/plain": [
       "array([ 4,  7, 10, 13, 16, 19, 22])"
      ]
     },
     "execution_count": 14,
     "metadata": {},
     "output_type": "execute_result"
    }
   ],
   "source": [
    "def generate_range_array(start , stop , step):\n",
    "    return np.arange(start , stop , step)\n",
    "\n",
    "\n",
    "generate_range_array(4 , 24 , 3)"
   ]
  },
  {
   "cell_type": "markdown",
   "id": "731d4323-034c-4429-a70f-3d1b0adbb527",
   "metadata": {},
   "source": [
    "# 14. Design a function `generate_linear_space` that takes two floats `start`, `stop`, and an integer `num` as arguments and generates a NumPy array with num equally spaced values between `start` and `stop` (inclusive)"
   ]
  },
  {
   "cell_type": "code",
   "execution_count": 15,
   "id": "9a85d648-18a6-40b6-a8bf-2552068e4510",
   "metadata": {},
   "outputs": [
    {
     "data": {
      "text/plain": [
       "array([4.        , 4.05263158, 4.10526316, 4.15789474, 4.21052632,\n",
       "       4.26315789, 4.31578947, 4.36842105, 4.42105263, 4.47368421,\n",
       "       4.52631579, 4.57894737, 4.63157895, 4.68421053, 4.73684211,\n",
       "       4.78947368, 4.84210526, 4.89473684, 4.94736842, 5.        ])"
      ]
     },
     "execution_count": 15,
     "metadata": {},
     "output_type": "execute_result"
    }
   ],
   "source": [
    "def generate_linear_space(start , stop , num):\n",
    "    return np.linspace(start , stop , num)\n",
    "\n",
    "generate_linear_space(4 , 5 , 20)"
   ]
  },
  {
   "cell_type": "markdown",
   "id": "71ee7926-b758-478a-b304-ea9dde88fed2",
   "metadata": {},
   "source": [
    "# 15.  Create a function `create_identity_matrix` that takes an integer `n` as input and generates a square identity matrix of size `n x n` using `numpy.eye`e"
   ]
  },
  {
   "cell_type": "code",
   "execution_count": 16,
   "id": "470881ba-5b10-468d-ad59-50edde51dfec",
   "metadata": {},
   "outputs": [
    {
     "data": {
      "text/plain": [
       "array([[1., 0., 0., 0.],\n",
       "       [0., 1., 0., 0.],\n",
       "       [0., 0., 1., 0.],\n",
       "       [0., 0., 0., 1.]])"
      ]
     },
     "execution_count": 16,
     "metadata": {},
     "output_type": "execute_result"
    }
   ],
   "source": [
    "def create_identity_matrix(n):\n",
    "    return np.eye(n)\n",
    "\n",
    "create_identity_matrix(4)"
   ]
  },
  {
   "cell_type": "markdown",
   "id": "79d697df-354a-428e-bb95-e1d2509eec9e",
   "metadata": {},
   "source": [
    "# 16.Write a function that takes a Python list and converts it into a NumPy array"
   ]
  },
  {
   "cell_type": "code",
   "execution_count": 17,
   "id": "e7c0a72a-128f-4840-9662-6b93b26beb99",
   "metadata": {},
   "outputs": [
    {
     "data": {
      "text/plain": [
       "array([1, 2, 3, 4, 5])"
      ]
     },
     "execution_count": 17,
     "metadata": {},
     "output_type": "execute_result"
    }
   ],
   "source": [
    "def fun(lis):\n",
    "    return np.array(lis)\n",
    "\n",
    "\n",
    "fun([1,2,3,4,5])"
   ]
  },
  {
   "cell_type": "markdown",
   "id": "b556a347-84f3-4273-b228-9856c47a7f04",
   "metadata": {},
   "source": [
    "# 17.Create a NumPy array and demonstrate the use of `numpy.view` to create a new array object with the same data"
   ]
  },
  {
   "cell_type": "code",
   "execution_count": 18,
   "id": "407d0335-e90c-4c7e-9d00-fc189c502161",
   "metadata": {},
   "outputs": [
    {
     "name": "stdout",
     "output_type": "stream",
     "text": [
      "Original array: [1 2 3 4]\n",
      "View array: [1 2 3 4]\n",
      "Modified original array: [ 1 10  3  4]\n",
      "Modified view array: [ 1 10  3  4]\n"
     ]
    }
   ],
   "source": [
    "arr = np.array([1, 2, 3, 4])\n",
    "\n",
    "view_arr = arr.view()\n",
    "\n",
    "\n",
    "print(\"Original array:\", arr)\n",
    "print(\"View array:\", view_arr)\n",
    "\n",
    "view_arr[1] = 10\n",
    "\n",
    "print(\"Modified original array:\", arr)\n",
    "print(\"Modified view array:\", view_arr)\n",
    "\n",
    "#if we modify the viw array it would affect in orginal too"
   ]
  },
  {
   "cell_type": "markdown",
   "id": "a5e9abcd-3157-41ce-8b95-57811c691157",
   "metadata": {},
   "source": [
    "# 18.Write a function that takes two NumPy arrays and concatenates them along a specified axis"
   ]
  },
  {
   "cell_type": "code",
   "execution_count": 19,
   "id": "f3bdd83d-eccd-4cd3-9a50-6290ea390fb4",
   "metadata": {},
   "outputs": [
    {
     "data": {
      "text/plain": [
       "array([ 1,  2,  3,  4,  5,  6,  7,  8,  9, 10])"
      ]
     },
     "execution_count": 19,
     "metadata": {},
     "output_type": "execute_result"
    }
   ],
   "source": [
    "def fun(arr1 , arr2 , ax):\n",
    "    return np.concatenate((arr1 , arr2) , axis = ax)\n",
    "\n",
    "\n",
    "arr1 = [1,2,3,4,5]\n",
    "arr2 = [6,7,8,9,10]\n",
    "\n",
    "fun(arr1 , arr2 , 0)"
   ]
  },
  {
   "cell_type": "markdown",
   "id": "9273524a-5c07-4c34-816a-b9155a86e6a9",
   "metadata": {},
   "source": [
    "# 19.Create two NumPy arrays with different shapes and concatenate them horizontally using `numpy`"
   ]
  },
  {
   "cell_type": "code",
   "execution_count": 20,
   "id": "543160e8-bad9-49f6-9c23-487cfa92bbd4",
   "metadata": {},
   "outputs": [
    {
     "data": {
      "text/plain": [
       "array([[1, 3, 3, 3, 3, 4, 4],\n",
       "       [4, 1, 3, 2, 2, 4, 4],\n",
       "       [1, 1, 3, 1, 1, 2, 3]])"
      ]
     },
     "execution_count": 20,
     "metadata": {},
     "output_type": "execute_result"
    }
   ],
   "source": [
    "arr1 = np.random.randint(1,5 , size = (3,3))\n",
    "arr2 = np.random.randint(1,5 , size = (3,4))\n",
    "\n",
    "np.concatenate((arr1 , arr2) , axis = 1)"
   ]
  },
  {
   "cell_type": "markdown",
   "id": "aff1bea1-da6a-4826-b7c4-3a7e7b0d2840",
   "metadata": {},
   "source": [
    "# 20.Write a function that vertically stacks multiple NumPy arrays given as a list"
   ]
  },
  {
   "cell_type": "code",
   "execution_count": 21,
   "id": "a61b2703-a6bb-422e-8e5c-5f6e2c504eb7",
   "metadata": {},
   "outputs": [
    {
     "data": {
      "text/plain": [
       "array([[3, 4, 2],\n",
       "       [4, 4, 3],\n",
       "       [2, 3, 2],\n",
       "       [1, 1, 4],\n",
       "       [2, 1, 1],\n",
       "       [2, 1, 2]])"
      ]
     },
     "execution_count": 21,
     "metadata": {},
     "output_type": "execute_result"
    }
   ],
   "source": [
    "def ver(arrys):\n",
    "    return np.vstack(arrys)\n",
    "\n",
    "\n",
    "arr1 = np.random.randint(1, 5, size=(2, 3))\n",
    "arr2 = np.random.randint(1, 5, size=(3, 3))\n",
    "arr3 = np.random.randint(1, 5, size=(1, 3))\n",
    "\n",
    "\n",
    "ver([arr1,arr2,arr3]) #pass as list form bcs we are using args na"
   ]
  },
  {
   "cell_type": "markdown",
   "id": "9eef6500-c811-48db-961b-4667c531fdba",
   "metadata": {},
   "source": [
    "# 21.Write a Python function using NumPy to create an array of integers within a specified range (inclusive) with a given step size"
   ]
  },
  {
   "cell_type": "code",
   "execution_count": 22,
   "id": "a82562f2-f25f-4fd5-bc74-59c9326d5749",
   "metadata": {},
   "outputs": [
    {
     "data": {
      "text/plain": [
       "array([ 4,  6,  8, 10, 12, 14, 16, 18, 20, 22, 24])"
      ]
     },
     "execution_count": 22,
     "metadata": {},
     "output_type": "execute_result"
    }
   ],
   "source": [
    "def generate_range_array(start , stop , step):\n",
    "    return np.arange(start , stop +1 , step)\n",
    "\n",
    "\n",
    "generate_range_array(4 , 24 , 2)"
   ]
  },
  {
   "cell_type": "markdown",
   "id": "d9652d75-a5b6-4a1c-b056-22adc841ebe9",
   "metadata": {},
   "source": [
    "# 22. Write a Python function using NumPy to generate an array of 10 equally spaced values between 0 and 1 (inclusive)"
   ]
  },
  {
   "cell_type": "code",
   "execution_count": 23,
   "id": "2075a3cd-d793-46e5-81e3-3cf79c1d65ad",
   "metadata": {},
   "outputs": [
    {
     "data": {
      "text/plain": [
       "array([4.        , 4.05263158, 4.10526316, 4.15789474, 4.21052632,\n",
       "       4.26315789, 4.31578947, 4.36842105, 4.42105263, 4.47368421,\n",
       "       4.52631579, 4.57894737, 4.63157895, 4.68421053, 4.73684211,\n",
       "       4.78947368, 4.84210526, 4.89473684, 4.94736842, 5.        ])"
      ]
     },
     "execution_count": 23,
     "metadata": {},
     "output_type": "execute_result"
    }
   ],
   "source": [
    "def generate_linear_space(start , stop , num):\n",
    "    return np.linspace(start , stop , num)\n",
    "\n",
    "generate_linear_space(4 , 5 , 20)"
   ]
  },
  {
   "cell_type": "markdown",
   "id": "addd231c-23e9-44ae-8cad-bd66532e3b58",
   "metadata": {},
   "source": [
    "# 23.Write a Python function using NumPy to create an array of 5 logarithmically spaced values between 1 and 1000 (inclusive))"
   ]
  },
  {
   "cell_type": "code",
   "execution_count": 24,
   "id": "a2fe9f20-f593-4d93-b611-4004f982d39c",
   "metadata": {},
   "outputs": [
    {
     "name": "stdout",
     "output_type": "stream",
     "text": [
      "[2.00000000e+000 3.61850279e+075 6.54678122e+150 1.18447730e+226\n",
      " 2.14301721e+301]\n"
     ]
    }
   ],
   "source": [
    "def logarr():\n",
    "    return np.logspace(1 , 1000+1, num =  5 ,base=2)\n",
    "\n",
    "k = logarr()\n",
    "print(k)"
   ]
  },
  {
   "cell_type": "markdown",
   "id": "9a6603c3-046e-4ef6-857f-9f415be3a72f",
   "metadata": {},
   "source": [
    "# 24. Create a Pandas DataFrame using a NumPy array that contains 5 rows and 3 columns, where the values are random integers between 1 and 1000"
   ]
  },
  {
   "cell_type": "code",
   "execution_count": 25,
   "id": "3a063d3b-71f2-4e89-8ed7-bdb95240565b",
   "metadata": {},
   "outputs": [
    {
     "data": {
      "text/html": [
       "<div>\n",
       "<style scoped>\n",
       "    .dataframe tbody tr th:only-of-type {\n",
       "        vertical-align: middle;\n",
       "    }\n",
       "\n",
       "    .dataframe tbody tr th {\n",
       "        vertical-align: top;\n",
       "    }\n",
       "\n",
       "    .dataframe thead th {\n",
       "        text-align: right;\n",
       "    }\n",
       "</style>\n",
       "<table border=\"1\" class=\"dataframe\">\n",
       "  <thead>\n",
       "    <tr style=\"text-align: right;\">\n",
       "      <th></th>\n",
       "      <th>0</th>\n",
       "      <th>1</th>\n",
       "      <th>2</th>\n",
       "    </tr>\n",
       "  </thead>\n",
       "  <tbody>\n",
       "    <tr>\n",
       "      <th>0</th>\n",
       "      <td>179</td>\n",
       "      <td>656</td>\n",
       "      <td>727</td>\n",
       "    </tr>\n",
       "    <tr>\n",
       "      <th>1</th>\n",
       "      <td>438</td>\n",
       "      <td>342</td>\n",
       "      <td>270</td>\n",
       "    </tr>\n",
       "    <tr>\n",
       "      <th>2</th>\n",
       "      <td>607</td>\n",
       "      <td>763</td>\n",
       "      <td>376</td>\n",
       "    </tr>\n",
       "    <tr>\n",
       "      <th>3</th>\n",
       "      <td>976</td>\n",
       "      <td>366</td>\n",
       "      <td>302</td>\n",
       "    </tr>\n",
       "    <tr>\n",
       "      <th>4</th>\n",
       "      <td>282</td>\n",
       "      <td>761</td>\n",
       "      <td>736</td>\n",
       "    </tr>\n",
       "  </tbody>\n",
       "</table>\n",
       "</div>"
      ],
      "text/plain": [
       "     0    1    2\n",
       "0  179  656  727\n",
       "1  438  342  270\n",
       "2  607  763  376\n",
       "3  976  366  302\n",
       "4  282  761  736"
      ]
     },
     "execution_count": 25,
     "metadata": {},
     "output_type": "execute_result"
    }
   ],
   "source": [
    "arr = np.random.randint(1 , 1000 , size = (5,3))\n",
    "\n",
    "pd.DataFrame(arr)"
   ]
  },
  {
   "cell_type": "markdown",
   "id": "48e24d5f-b92e-44a2-a266-c14772b1d03f",
   "metadata": {},
   "source": [
    "# 25. Write a function that takes a Pandas DataFrame and replaces all negative values in a specific column with zeros. Use NumPy operations within the Pandas DataFramee"
   ]
  },
  {
   "cell_type": "code",
   "execution_count": 26,
   "id": "8f863d6e-36cc-49fc-b7b6-0b2f8451ce5c",
   "metadata": {},
   "outputs": [
    {
     "data": {
      "text/html": [
       "<div>\n",
       "<style scoped>\n",
       "    .dataframe tbody tr th:only-of-type {\n",
       "        vertical-align: middle;\n",
       "    }\n",
       "\n",
       "    .dataframe tbody tr th {\n",
       "        vertical-align: top;\n",
       "    }\n",
       "\n",
       "    .dataframe thead th {\n",
       "        text-align: right;\n",
       "    }\n",
       "</style>\n",
       "<table border=\"1\" class=\"dataframe\">\n",
       "  <thead>\n",
       "    <tr style=\"text-align: right;\">\n",
       "      <th></th>\n",
       "      <th>A</th>\n",
       "      <th>B</th>\n",
       "    </tr>\n",
       "  </thead>\n",
       "  <tbody>\n",
       "    <tr>\n",
       "      <th>0</th>\n",
       "      <td>1</td>\n",
       "      <td>10</td>\n",
       "    </tr>\n",
       "    <tr>\n",
       "      <th>1</th>\n",
       "      <td>0</td>\n",
       "      <td>-20</td>\n",
       "    </tr>\n",
       "    <tr>\n",
       "      <th>2</th>\n",
       "      <td>3</td>\n",
       "      <td>30</td>\n",
       "    </tr>\n",
       "    <tr>\n",
       "      <th>3</th>\n",
       "      <td>0</td>\n",
       "      <td>-40</td>\n",
       "    </tr>\n",
       "    <tr>\n",
       "      <th>4</th>\n",
       "      <td>5</td>\n",
       "      <td>50</td>\n",
       "    </tr>\n",
       "  </tbody>\n",
       "</table>\n",
       "</div>"
      ],
      "text/plain": [
       "   A   B\n",
       "0  1  10\n",
       "1  0 -20\n",
       "2  3  30\n",
       "3  0 -40\n",
       "4  5  50"
      ]
     },
     "execution_count": 26,
     "metadata": {},
     "output_type": "execute_result"
    }
   ],
   "source": [
    "def rep_with_zero(df , column):\n",
    "\n",
    "\n",
    "    df[column] = np.where(df[column] < 0 , 0 , df[column])\n",
    "    return df\n",
    "\n",
    "\n",
    "data = {'A': [1, -2, 3, -4, 5], 'B': [10, -20, 30, -40, 50]}\n",
    "df = pd.DataFrame(data)\n",
    "\n",
    "\n",
    "rep_with_zero(df, 'A')"
   ]
  },
  {
   "cell_type": "markdown",
   "id": "87e548d1-07ad-4519-969a-cd594a1ac380",
   "metadata": {},
   "source": [
    "# 26.Access the 3rd element from the given NumPy array"
   ]
  },
  {
   "cell_type": "code",
   "execution_count": 27,
   "id": "079d495f-a5ea-41fa-9f4d-861ab67234b6",
   "metadata": {},
   "outputs": [
    {
     "data": {
      "text/plain": [
       "30"
      ]
     },
     "execution_count": 27,
     "metadata": {},
     "output_type": "execute_result"
    }
   ],
   "source": [
    "arr = np.array([10, 20, 30, 40, 50])\n",
    "arr[2]"
   ]
  },
  {
   "cell_type": "markdown",
   "id": "7ad28426-e8e8-4959-9679-796038fedac0",
   "metadata": {},
   "source": [
    "# 27.Retrieve the element at index (1, 2) from the 2D NumPy array"
   ]
  },
  {
   "cell_type": "code",
   "execution_count": 28,
   "id": "87c0d07a-da47-41b5-b100-3a3978c5d273",
   "metadata": {},
   "outputs": [
    {
     "data": {
      "text/plain": [
       "6"
      ]
     },
     "execution_count": 28,
     "metadata": {},
     "output_type": "execute_result"
    }
   ],
   "source": [
    "arr_2d = np.array([[1, 2, 3],\n",
    "                   [4, 5, 6],\n",
    "                   [7, 8, 9]])\n",
    "\n",
    "arr_2d[1][2]"
   ]
  },
  {
   "cell_type": "markdown",
   "id": "8b795fff-84c3-456a-84b9-a33aafac4062",
   "metadata": {},
   "source": [
    "# 28.Using boolean indexing, extract elements greater than 5 from the given NumPy array"
   ]
  },
  {
   "cell_type": "code",
   "execution_count": 29,
   "id": "06f42143-0cd7-406e-9673-e0702353d101",
   "metadata": {},
   "outputs": [
    {
     "data": {
      "text/plain": [
       "array([ 8, 10,  7])"
      ]
     },
     "execution_count": 29,
     "metadata": {},
     "output_type": "execute_result"
    }
   ],
   "source": [
    "arr = np.array([3, 8, 2, 10, 5, 7])\n",
    "arr[arr>5]"
   ]
  },
  {
   "cell_type": "markdown",
   "id": "cc433c16-830f-4476-bbaa-e0f7f527376b",
   "metadata": {},
   "source": [
    "# 29.Perform basic slicing to extract elements from index 2 to 5 (inclusive) from the given NumPy array"
   ]
  },
  {
   "cell_type": "code",
   "execution_count": 30,
   "id": "852ca843-d4e3-486e-8ea8-4f039489252b",
   "metadata": {},
   "outputs": [
    {
     "data": {
      "text/plain": [
       "array([3, 4, 5, 6])"
      ]
     },
     "execution_count": 30,
     "metadata": {},
     "output_type": "execute_result"
    }
   ],
   "source": [
    "arr = np.array([1, 2, 3, 4, 5, 6, 7, 8, 9])\n",
    "arr[2:6]"
   ]
  },
  {
   "cell_type": "markdown",
   "id": "390497a4-8373-4275-86d3-02e20b7a6df7",
   "metadata": {},
   "source": [
    "# 30.Slice the 2D NumPy array to extract the sub-array `[[2, 3], [5, 6]]` from the given array"
   ]
  },
  {
   "cell_type": "code",
   "execution_count": 31,
   "id": "992b9ef4-04c4-41ff-99b0-d84dd05e2b08",
   "metadata": {},
   "outputs": [
    {
     "data": {
      "text/plain": [
       "array([[2, 3],\n",
       "       [5, 6]])"
      ]
     },
     "execution_count": 31,
     "metadata": {},
     "output_type": "execute_result"
    }
   ],
   "source": [
    "arr_2d = np.array([[1, 2, 3],\n",
    "                   [4, 5, 6],\n",
    "                   [7, 8, 9]])\n",
    "\n",
    "arr = arr_2d[0:2 , 1:]\n",
    "arr"
   ]
  },
  {
   "cell_type": "markdown",
   "id": "576dc67d-c990-456d-8cac-31b8f0461c20",
   "metadata": {},
   "source": [
    "# 31.Write a NumPy function to extract elements in specific order from a given 2D array based on indices provided in another array"
   ]
  },
  {
   "cell_type": "code",
   "execution_count": 32,
   "id": "86e75544-07c9-4c05-9bba-341c7b8c2481",
   "metadata": {},
   "outputs": [
    {
     "data": {
      "text/plain": [
       "array([30, 40, 80])"
      ]
     },
     "execution_count": 32,
     "metadata": {},
     "output_type": "execute_result"
    }
   ],
   "source": [
    "def exe(arr ,indes):\n",
    "    return arr[indes[: ,0] , indes[:,1]]\n",
    "\n",
    "\n",
    "arr = np.array([[10, 20, 30],\n",
    "                [40, 50, 60],\n",
    "                [70, 80, 90]])\n",
    "\n",
    "indices = np.array([[0, 2],  # Element at row 0, column 2\n",
    "                    [1, 0],  # Element at row 1, column 0\n",
    "                    [2, 1]]) # Element at row 2, column 1\n",
    "\n",
    "exe(arr, indices)"
   ]
  },
  {
   "cell_type": "markdown",
   "id": "32a160c5-f5cf-4abf-8474-7a0d991eb6f2",
   "metadata": {},
   "source": [
    "# 32.Create a NumPy function that filters elements greater than a threshold from a given 1D array using boolean indexingg"
   ]
  },
  {
   "cell_type": "code",
   "execution_count": 33,
   "id": "0faf877a-5c47-4489-8f2a-e59b1e2170cb",
   "metadata": {},
   "outputs": [
    {
     "data": {
      "text/plain": [
       "array([ 8, 10,  7])"
      ]
     },
     "execution_count": 33,
     "metadata": {},
     "output_type": "execute_result"
    }
   ],
   "source": [
    "def pip(arr,threshold):\n",
    "    return arr[arr > threshold]\n",
    "\n",
    "threshold = 5\n",
    "\n",
    "pip(np.array([3, 8, 2, 10, 5, 7]) , threshold)"
   ]
  },
  {
   "cell_type": "markdown",
   "id": "a5edca40-46b3-4101-96be-dd9c3b04734a",
   "metadata": {},
   "source": [
    "# 33.Develop a NumPy function that extracts specific elements from a 3D array using indices provided in three separate arrays for each dimensionn"
   ]
  },
  {
   "cell_type": "code",
   "execution_count": 34,
   "id": "b73cd2ff-4d83-4e7d-8c0b-c95382749cb7",
   "metadata": {},
   "outputs": [
    {
     "data": {
      "text/plain": [
       "array([80, 31, 42])"
      ]
     },
     "execution_count": 34,
     "metadata": {},
     "output_type": "execute_result"
    }
   ],
   "source": [
    "def exe(arr,r,c,d):\n",
    "    return arr[r,c,d]\n",
    "\n",
    "arr = np.array([[[10, 20, 30],\n",
    "                 [40, 50, 60],\n",
    "                 [70, 80, 90]],\n",
    "                 \n",
    "                [[11, 21, 31],\n",
    "                 [41, 51, 61],\n",
    "                 [71, 81, 91]],\n",
    "                 \n",
    "                [[12, 22, 32],\n",
    "                 [42, 52, 62],\n",
    "                 [72, 82, 92]]])\n",
    "\n",
    "row_indices = np.array([0, 1, 2])\n",
    "col_indices = np.array([2, 0, 1])\n",
    "depth_indices = np.array([1, 2, 0])\n",
    "\n",
    "exe(arr, row_indices, col_indices, depth_indices)\n"
   ]
  },
  {
   "cell_type": "markdown",
   "id": "05821163-e339-4ac1-8ff5-5ded7b79cd54",
   "metadata": {},
   "source": [
    "# 34.Write a NumPy function that returns elements from an array where both two conditions are satisfied using boolean indexingg"
   ]
  },
  {
   "cell_type": "code",
   "execution_count": 35,
   "id": "0553dbb6-3009-4fdc-8313-878bba07d6f6",
   "metadata": {},
   "outputs": [
    {
     "data": {
      "text/plain": [
       "array([20, 25, 30])"
      ]
     },
     "execution_count": 35,
     "metadata": {},
     "output_type": "execute_result"
    }
   ],
   "source": [
    "def con(arr ,c1 ,c2):\n",
    "    return arr[c1(arr) & c2(arr)]\n",
    "\n",
    "arr = np.array([10, 15, 20, 25, 30, 35, 40])\n",
    "\n",
    "condition1 = lambda x: x > 15\n",
    "condition2 = lambda x: x < 35\n",
    "\n",
    "con(arr, condition1, condition2)"
   ]
  },
  {
   "cell_type": "markdown",
   "id": "5344152e-75c7-4aaa-8729-2803b196f8f6",
   "metadata": {},
   "source": [
    "# 35.Create a NumPy function that extracts elements from a 2D array using row and column indices provided in separate arrayss"
   ]
  },
  {
   "cell_type": "code",
   "execution_count": 36,
   "id": "1d1713c8-b02b-486b-8315-9074e7939a0f",
   "metadata": {},
   "outputs": [
    {
     "data": {
      "text/plain": [
       "array([30, 40])"
      ]
     },
     "execution_count": 36,
     "metadata": {},
     "output_type": "execute_result"
    }
   ],
   "source": [
    "def exe(arr,r,c):\n",
    "    return arr[r,c]\n",
    "\n",
    "arr = np.array([[10, 20, 30],\n",
    "                 [40, 50, 60],\n",
    "                 [70, 80, 90],\n",
    "                 \n",
    "                 [11, 21, 31],\n",
    "                 [41, 51, 61],\n",
    "                 [71, 81, 91],\n",
    "                 \n",
    "                 [12, 22, 32],\n",
    "                 [42, 52, 62],\n",
    "                 [72, 82, 92]])\n",
    "\n",
    "row_indices = np.array([0, 1])\n",
    "col_indices = np.array([2, 0])\n",
    "\n",
    "exe(arr, row_indices, col_indices)"
   ]
  },
  {
   "cell_type": "markdown",
   "id": "d5a298d1-fe02-460f-b154-fc95d67add56",
   "metadata": {},
   "source": [
    "# 36.Given an array arr of shape (3, 3), add a scalar value of 5 to each element using NumPy broadcasting"
   ]
  },
  {
   "cell_type": "code",
   "execution_count": 37,
   "id": "77352d62-5b74-4b10-84e5-91ffdd41de12",
   "metadata": {},
   "outputs": [
    {
     "data": {
      "text/plain": [
       "array([[ 6,  7,  8],\n",
       "       [ 9, 10, 11],\n",
       "       [12, 13, 14]])"
      ]
     },
     "execution_count": 37,
     "metadata": {},
     "output_type": "execute_result"
    }
   ],
   "source": [
    "arr = np.array([[1, 2, 3],\n",
    "                [4, 5, 6],\n",
    "                [7, 8, 9]])\n",
    "\n",
    "arr+5"
   ]
  },
  {
   "cell_type": "markdown",
   "id": "03dd418f-cdec-48cd-8c30-c377e60ca7d2",
   "metadata": {},
   "source": [
    "# 37.Consider two arrays arr1 of shape (1, 3) and arr2 of shape (3, 4). Multiply each row of arr2 by the corresponding element in arr1 using NumPy broadcastingg"
   ]
  },
  {
   "cell_type": "code",
   "execution_count": 38,
   "id": "69cbd78e-c898-48a8-9e94-7cdabe7972e7",
   "metadata": {},
   "outputs": [
    {
     "data": {
      "text/plain": [
       "array([[ 2,  4,  6,  8],\n",
       "       [20, 24, 28, 32],\n",
       "       [54, 60, 66, 72]])"
      ]
     },
     "execution_count": 38,
     "metadata": {},
     "output_type": "execute_result"
    }
   ],
   "source": [
    "arr1 = np.array([[2, 4, 6]])  # Shape (1, 3)\n",
    "arr2 = np.array([[1, 2, 3, 4],\n",
    "                 [5, 6, 7, 8],\n",
    "                 [9, 10, 11, 12]])  # Shape (3, 4)\n",
    "\n",
    "\n",
    "arr1_broadcasted = np.reshape(arr1, (3, 1))\n",
    "\n",
    "# arr1_broadcasted*arr2\n",
    "\n",
    "arr2 * arr1_broadcasted"
   ]
  },
  {
   "cell_type": "markdown",
   "id": "7c7a40aa-ee27-4428-a759-cf4877672e6c",
   "metadata": {},
   "source": [
    "# 38.Given a 1D array arr1 of shape (1, 4) and a 2D array arr2 of shape (4, 3), add arr1 to each row of arr2 using NumPy broadcastingg"
   ]
  },
  {
   "cell_type": "code",
   "execution_count": 39,
   "id": "b281bcf2-65e1-4c13-9149-51b7dd55fb2f",
   "metadata": {},
   "outputs": [
    {
     "data": {
      "text/plain": [
       "array([[ 5,  7,  9],\n",
       "       [ 8, 10, 12],\n",
       "       [11, 13, 15],\n",
       "       [14, 16, 18]])"
      ]
     },
     "execution_count": 39,
     "metadata": {},
     "output_type": "execute_result"
    }
   ],
   "source": [
    "arr1 = np.array([[1, 2, 3]])  # Shape (1, 3)\n",
    "arr2 = np.array([[4, 5, 6],\n",
    "                 [7, 8, 9],\n",
    "                 [10, 11, 12],\n",
    "                 [13, 14, 15]])  # Shape (4, 3)\n",
    "\n",
    "arr2 + arr1"
   ]
  },
  {
   "cell_type": "markdown",
   "id": "a632bf03-eb88-429b-a7c6-edd24e595101",
   "metadata": {},
   "source": [
    "# 39.Consider two arrays arr1 of shape (3, 1) and arr2 of shape (1, 3). Add these arrays using NumPy broadcastingg"
   ]
  },
  {
   "cell_type": "code",
   "execution_count": 40,
   "id": "4874524e-60f5-4471-895f-428e19468c31",
   "metadata": {},
   "outputs": [
    {
     "data": {
      "text/plain": [
       "array([[3, 4, 5],\n",
       "       [2, 3, 4],\n",
       "       [5, 6, 7]])"
      ]
     },
     "execution_count": 40,
     "metadata": {},
     "output_type": "execute_result"
    }
   ],
   "source": [
    "arr1 = np.random.randint(1,5,size = (3,1))\n",
    "arr2 = np.array([[1, 2, 3]])\n",
    "\n",
    "arr1 + arr2"
   ]
  },
  {
   "cell_type": "markdown",
   "id": "22c0797b-3b98-4c05-bf23-216a7f6d153b",
   "metadata": {},
   "source": [
    "# 40.Given arrays arr1 of shape (2, 3) and arr2 of shape (2, 2), perform multiplication using NumPy broadcasting. Handle the shape incompatibilityy"
   ]
  },
  {
   "cell_type": "code",
   "execution_count": 41,
   "id": "4cd5d5d1-8d7c-427f-9a2f-9ea2e900541e",
   "metadata": {},
   "outputs": [
    {
     "data": {
      "text/plain": [
       "array([[[ 1,  2],\n",
       "        [ 2,  4],\n",
       "        [ 3,  6]],\n",
       "\n",
       "       [[12, 16],\n",
       "        [15, 20],\n",
       "        [18, 24]]])"
      ]
     },
     "execution_count": 41,
     "metadata": {},
     "output_type": "execute_result"
    }
   ],
   "source": [
    "arr1 = np.array([[1, 2, 3],\n",
    "                 [4, 5, 6]])  # Shape (2, 3)\n",
    "\n",
    "arr2 = np.array([[1, 2],\n",
    "                 [3, 4]])  # Shape (2, 2)\n",
    "\n",
    "arr2_reshaped = arr2[:, np.newaxis, :]\n",
    "\n",
    "arr1_expanded = arr1[:, :, np.newaxis]\n",
    "\n",
    "arr1_expanded * arr2_reshaped"
   ]
  },
  {
   "cell_type": "markdown",
   "id": "4a8e3dbf-4808-4c88-87d4-ce5c26d8cf1a",
   "metadata": {},
   "source": [
    "# 41.Calculate column wise mean for the given array"
   ]
  },
  {
   "cell_type": "code",
   "execution_count": 42,
   "id": "d7e00428-48fe-406d-8f53-1747d05ed4d3",
   "metadata": {},
   "outputs": [
    {
     "data": {
      "text/plain": [
       "array([2.5, 3.5, 4.5])"
      ]
     },
     "execution_count": 42,
     "metadata": {},
     "output_type": "execute_result"
    }
   ],
   "source": [
    "arr = np.array([[1, 2, 3], [4, 5, 6]])\n",
    "np.mean(arr , axis = 0)"
   ]
  },
  {
   "cell_type": "markdown",
   "id": "a65e00c8-d628-49b3-8757-43b8c826a304",
   "metadata": {},
   "source": [
    "# 42.Find maximum value in each row of the given array"
   ]
  },
  {
   "cell_type": "code",
   "execution_count": 43,
   "id": "73df3258-7cfb-48ac-9158-e45c3a350265",
   "metadata": {},
   "outputs": [
    {
     "data": {
      "text/plain": [
       "array([3, 6])"
      ]
     },
     "execution_count": 43,
     "metadata": {},
     "output_type": "execute_result"
    }
   ],
   "source": [
    "arr = np.array([[1, 2, 3], [4, 5, 6]])\n",
    "np.max(arr , axis = 1)"
   ]
  },
  {
   "cell_type": "markdown",
   "id": "afb99f3c-5a64-4329-8c8a-a29b3f6f93e3",
   "metadata": {},
   "source": [
    "# 43.For the given array, find indices of maximum value in each column"
   ]
  },
  {
   "cell_type": "code",
   "execution_count": 44,
   "id": "369cbb85-6e41-4d27-8b8d-73e1527910ce",
   "metadata": {},
   "outputs": [
    {
     "data": {
      "text/plain": [
       "array([1, 1, 1], dtype=int64)"
      ]
     },
     "execution_count": 44,
     "metadata": {},
     "output_type": "execute_result"
    }
   ],
   "source": [
    "arr = np.array([[1, 2, 3], [4, 5, 6]])\n",
    "np.argmax(arr , axis = 0)"
   ]
  },
  {
   "cell_type": "markdown",
   "id": "5663926a-bcd8-4356-b3a3-b3bd63fc1588",
   "metadata": {},
   "source": [
    "# 44.For the given array, apply custom function to calculate moving sum along rows"
   ]
  },
  {
   "cell_type": "code",
   "execution_count": 45,
   "id": "8779290c-a1f3-4ff4-a50e-393450491061",
   "metadata": {},
   "outputs": [
    {
     "data": {
      "text/plain": [
       "array([[ 1,  3,  6],\n",
       "       [ 4,  9, 15]])"
      ]
     },
     "execution_count": 45,
     "metadata": {},
     "output_type": "execute_result"
    }
   ],
   "source": [
    "def cum(row):\n",
    "    c_s = 0\n",
    "    res = []\n",
    "    for i in row:\n",
    "        c_s += i\n",
    "        res.append(c_s)\n",
    "    return res\n",
    "\n",
    "arr = np.array([[1, 2, 3], [4, 5, 6]])\n",
    "res = np.apply_along_axis(cum, 1, arr)\n",
    "\n",
    "res"
   ]
  },
  {
   "cell_type": "markdown",
   "id": "3bcb134f-8d2f-49be-bfc7-f7cfe8f2a4f6",
   "metadata": {},
   "source": [
    "# 45.In the given array, check if all elements in each column are even"
   ]
  },
  {
   "cell_type": "code",
   "execution_count": 46,
   "id": "5df9d958-3a21-4e5c-9d5e-57b839d52da8",
   "metadata": {},
   "outputs": [
    {
     "name": "stdout",
     "output_type": "stream",
     "text": [
      "[[ True  True  True]\n",
      " [False False False]]\n"
     ]
    }
   ],
   "source": [
    "arr = np.array([[2, 4, 6], [3, 5, 7]])\n",
    "print(arr%2 == 0)"
   ]
  },
  {
   "cell_type": "markdown",
   "id": "46b58e89-3502-4009-900f-5c099df37e19",
   "metadata": {},
   "source": [
    "# 46.Given a NumPy array arr, reshape it into a matrix of dimensions `m` rows and `n` columns. Return the reshaped matrixx"
   ]
  },
  {
   "cell_type": "code",
   "execution_count": 47,
   "id": "661fce82-1e43-4a75-a505-78635196aa59",
   "metadata": {},
   "outputs": [
    {
     "name": "stdout",
     "output_type": "stream",
     "text": [
      "[[1 2 3]\n",
      " [4 5 6]]\n"
     ]
    }
   ],
   "source": [
    "original_array = np.array([1, 2, 3, 4, 5, 6])\n",
    "\n",
    "reshaped_array = np.reshape(original_array , (2,3))\n",
    "\n",
    "print(reshaped_array)"
   ]
  },
  {
   "cell_type": "markdown",
   "id": "f8be0e10-faf7-4ae7-9fa1-bfa21f33b74d",
   "metadata": {},
   "source": [
    "# 47.Create a function that takes a matrix as input and returns the flattened array"
   ]
  },
  {
   "cell_type": "code",
   "execution_count": 48,
   "id": "ff3cb02f-bdbf-45e1-b45f-7d6541231463",
   "metadata": {},
   "outputs": [
    {
     "data": {
      "text/plain": [
       "array([1, 2, 3, 4, 5, 6])"
      ]
     },
     "execution_count": 48,
     "metadata": {},
     "output_type": "execute_result"
    }
   ],
   "source": [
    "input_matrix = np.array([[1, 2, 3], [4, 5, 6]])\n",
    "\n",
    "input_matrix.flatten()"
   ]
  },
  {
   "cell_type": "markdown",
   "id": "3b33b6c9-81f0-42bb-a838-498247e8c065",
   "metadata": {},
   "source": [
    "# 48.Write a function that concatenates two given arrays along a specified axis"
   ]
  },
  {
   "cell_type": "code",
   "execution_count": 49,
   "id": "cd97b50b-6cce-4a57-9c81-9c1ef218ca36",
   "metadata": {},
   "outputs": [
    {
     "data": {
      "text/plain": [
       "array([[1, 2],\n",
       "       [3, 4],\n",
       "       [5, 6],\n",
       "       [7, 8]])"
      ]
     },
     "execution_count": 49,
     "metadata": {},
     "output_type": "execute_result"
    }
   ],
   "source": [
    "def conca(arr1 , arr2 , ax):\n",
    "    return np.concatenate((arr1 , arr2) , axis = ax)\n",
    "    \n",
    "array1 = np.array([[1, 2], [3, 4]])\n",
    "array2 = np.array([[5, 6], [7, 8]])\n",
    "\n",
    "\n",
    "conca(array1 , array2 , 0)"
   ]
  },
  {
   "cell_type": "markdown",
   "id": "be066fd7-e724-42f3-a142-4554e78c06f8",
   "metadata": {},
   "source": [
    "# 49.Create a function that splits an array into multiple sub-arrays along a specified axis"
   ]
  },
  {
   "cell_type": "code",
   "execution_count": 50,
   "id": "55a331d5-ea50-44d8-bd94-c86786eb1664",
   "metadata": {},
   "outputs": [
    {
     "data": {
      "text/plain": [
       "[array([[1, 2, 3]]), array([[4, 5, 6]]), array([[7, 8, 9]])]"
      ]
     },
     "execution_count": 50,
     "metadata": {},
     "output_type": "execute_result"
    }
   ],
   "source": [
    "original_array = np.array([[1, 2, 3], [4, 5, 6], [7, 8, 9]])\n",
    "np.split(original_array , 3 , axis = 0) #That number is to split how many arrays we want to"
   ]
  },
  {
   "cell_type": "markdown",
   "id": "c7332849-c973-4589-9fbe-8c9007f06808",
   "metadata": {},
   "source": [
    "# 50.Write a function that inserts and then deletes elements from a given array at specified indices"
   ]
  },
  {
   "cell_type": "code",
   "execution_count": 51,
   "id": "b755a69e-6477-45b2-b147-96c21c5cc1e0",
   "metadata": {},
   "outputs": [
    {
     "data": {
      "text/plain": [
       "array([ 1, 10, 11,  4,  5])"
      ]
     },
     "execution_count": 51,
     "metadata": {},
     "output_type": "execute_result"
    }
   ],
   "source": [
    "def pip(arr,indices_to_insert,values_to_insert,indices_to_delete):\n",
    "    mod_arr = arr.copy()\n",
    "    for index , value in zip(indices_to_insert , values_to_insert):\n",
    "        mod_arr = np.insert(mod_arr , index , value)\n",
    "\n",
    "\n",
    "    mod_arr = np.delete(mod_arr , indices_to_delete)\n",
    "\n",
    "    return mod_arr\n",
    "\n",
    "\n",
    "\n",
    "\n",
    "\n",
    "    \n",
    "original_array = np.array([1, 2, 3, 4, 5])\n",
    "indices_to_insert = [2, 4]\n",
    "values_to_insert = [10, 11]\n",
    "indices_to_delete = [1, 3]\n",
    "\n",
    "\n",
    "pip(original_array , indices_to_insert , values_to_insert , indices_to_delete)"
   ]
  },
  {
   "cell_type": "markdown",
   "id": "06d09a6f-18c0-4b1c-a7ec-b141d6771927",
   "metadata": {},
   "source": [
    "# 51.Create a NumPy array `arr1` with random integers and another array `arr2` with integers from 1 to 10.Perform element-wise addition between `arr1` and `arr2``"
   ]
  },
  {
   "cell_type": "code",
   "execution_count": 52,
   "id": "e0fdff4e-56f0-4e71-b8ae-d6c2ee4fa5a1",
   "metadata": {},
   "outputs": [
    {
     "data": {
      "text/plain": [
       "array([28, 38, 92, 46, 58, 49, 36, 69, 28, 94])"
      ]
     },
     "execution_count": 52,
     "metadata": {},
     "output_type": "execute_result"
    }
   ],
   "source": [
    "arr1 = np.random.randint(0,100 ,10)\n",
    "arr2 = np.arange(1 ,11)\n",
    "\n",
    "arr1 + arr2"
   ]
  },
  {
   "cell_type": "markdown",
   "id": "f5bf975b-4c67-47c5-9421-1e60d1269b3f",
   "metadata": {},
   "source": [
    "# 52.Generate a NumPy array `arr1` with sequential integers from 10 to 1 and another array `arr2` with integers from 1 to 10. Subtract `arr2` from `arr1` element-wisee"
   ]
  },
  {
   "cell_type": "code",
   "execution_count": 53,
   "id": "124364db-e47c-4e7a-9d80-f6e68b91bdd7",
   "metadata": {},
   "outputs": [
    {
     "data": {
      "text/plain": [
       "array([-9, -7, -5, -3, -1,  1,  3,  5,  7,  9])"
      ]
     },
     "execution_count": 53,
     "metadata": {},
     "output_type": "execute_result"
    }
   ],
   "source": [
    "arr1 = np.arange(10 , 0 , -1)\n",
    "\n",
    "arr2 = np.arange(1,11)\n",
    "\n",
    "arr2 - arr1"
   ]
  },
  {
   "cell_type": "markdown",
   "id": "689cecac-930a-4d55-be19-2a4dfd81a525",
   "metadata": {},
   "source": [
    "# 53.Create a NumPy array `arr1` with random integers and another array `arr2` with integers from 1 to 5.Perform element-wise multiplication between `arr1` and `arr2`."
   ]
  },
  {
   "cell_type": "code",
   "execution_count": 54,
   "id": "9825653f-f9ba-43d7-a5b5-bb5601b60924",
   "metadata": {},
   "outputs": [
    {
     "data": {
      "text/plain": [
       "array([490, 310, 125, 240, 385, 420, 395, 295,  90, 275])"
      ]
     },
     "execution_count": 54,
     "metadata": {},
     "output_type": "execute_result"
    }
   ],
   "source": [
    "arr1 = np.random.randint(1,100,10)\n",
    "arr2 = np.random.randint(1,6)\n",
    "\n",
    "arr1 * arr2"
   ]
  },
  {
   "cell_type": "markdown",
   "id": "3a640892-0094-4697-b0ac-fb242c215f0e",
   "metadata": {},
   "source": [
    "# 54.Generate a NumPy array `arr1` with even integers from 2 to 10 and another array `arr2` with integers from 1 to 5. Perform element-wise division of `arr1` by `arr2``"
   ]
  },
  {
   "cell_type": "code",
   "execution_count": 55,
   "id": "82833691-f63a-4b19-a03c-46b76798e419",
   "metadata": {},
   "outputs": [
    {
     "data": {
      "text/plain": [
       "array([2., 2., 2., 2., 2.])"
      ]
     },
     "execution_count": 55,
     "metadata": {},
     "output_type": "execute_result"
    }
   ],
   "source": [
    "arr1 = np.arange(2, 11 , 2)\n",
    "arr2 = np.arange(1 , 6)\n",
    "\n",
    "arr1 / arr2"
   ]
  },
  {
   "cell_type": "markdown",
   "id": "ef0978ec-f2b3-40bf-ba2b-c2abcdc118d6",
   "metadata": {},
   "source": [
    "# 55.Create a NumPy array `arr1` with integers from 1 to 5 and another array `arr2` with the same numbers reversed. Calculate the exponentiation of `arr1` raised to the power of `arr2` element-wisee"
   ]
  },
  {
   "cell_type": "code",
   "execution_count": 56,
   "id": "2f7cdbbc-f0d6-4740-9ed8-94728f0af9ee",
   "metadata": {},
   "outputs": [
    {
     "data": {
      "text/plain": [
       "array([ 1, 16, 27, 16,  5])"
      ]
     },
     "execution_count": 56,
     "metadata": {},
     "output_type": "execute_result"
    }
   ],
   "source": [
    "arr1 = np.arange(1,6)\n",
    "arr2 = np.arange(5,0,-1)\n",
    "\n",
    "arr1 ** arr2"
   ]
  },
  {
   "cell_type": "markdown",
   "id": "2efb10bc-d1a3-4699-ba92-c9bc3a670a30",
   "metadata": {},
   "source": [
    "# 56.Write a function that counts the occurrences of a specific substring within a NumPy array of strings"
   ]
  },
  {
   "cell_type": "code",
   "execution_count": 57,
   "id": "16eee4e2-6098-4a75-a8f3-17ac165b7c88",
   "metadata": {},
   "outputs": [
    {
     "data": {
      "text/plain": [
       "3"
      ]
     },
     "execution_count": 57,
     "metadata": {},
     "output_type": "execute_result"
    }
   ],
   "source": [
    "def fun(arr , ss):\n",
    "    count = 0\n",
    "    for str in arr:\n",
    "        count += str.count(ss)\n",
    "    return count\n",
    "arr = np.array(['hello', 'world', 'hello', 'numpy', 'hello'])\n",
    "fun(arr , 'hello')"
   ]
  },
  {
   "cell_type": "markdown",
   "id": "40c31871-bb17-4e09-9148-fda6f4542138",
   "metadata": {},
   "source": [
    "# 57. Write a function that extracts uppercase characters from a NumPy array of strings])"
   ]
  },
  {
   "cell_type": "code",
   "execution_count": 58,
   "id": "1c6c4832-91a9-4add-888d-2316356f1500",
   "metadata": {},
   "outputs": [
    {
     "data": {
      "text/plain": [
       "array(['H', 'W', 'OAI', 'GPT'], dtype='<U3')"
      ]
     },
     "execution_count": 58,
     "metadata": {},
     "output_type": "execute_result"
    }
   ],
   "source": [
    "def exe_upp(arr):\n",
    "    res = []\n",
    "    for str in arr:\n",
    "        uppp_chrs = ''.join([char for char in str if char.isupper()])\n",
    "        res.append(uppp_chrs)\n",
    "    return np.array(res)\n",
    "\n",
    "arr = np.array(['Hello', 'World', 'OpenAI', 'GPT'])\n",
    "exe_upp(arr)"
   ]
  },
  {
   "cell_type": "markdown",
   "id": "493f4854-946b-4302-994b-52c4f32c71c6",
   "metadata": {},
   "source": [
    "# 58.Write a function that replaces occurrences of a substring in a NumPy array of strings with a new string"
   ]
  },
  {
   "cell_type": "code",
   "execution_count": 59,
   "id": "9aec4a76-020c-482b-8808-caf4bf385aff",
   "metadata": {},
   "outputs": [
    {
     "data": {
      "text/plain": [
       "array(['orange', 'banana', 'grape', 'pineorange'], dtype='<U10')"
      ]
     },
     "execution_count": 59,
     "metadata": {},
     "output_type": "execute_result"
    }
   ],
   "source": [
    "def rep(arr , old , new):\n",
    "    return np.char.replace(arr , old ,new)\n",
    "\n",
    "arr = np.array(['apple', 'banana', 'grape', 'pineapple'])\n",
    "\n",
    "rep(arr , 'apple' , 'orange')"
   ]
  },
  {
   "cell_type": "markdown",
   "id": "ac20b0fc-4bab-4c09-80ec-6a76d940152c",
   "metadata": {},
   "source": [
    "# 59.Write a function that concatenates strings in a NumPy array element-wise"
   ]
  },
  {
   "cell_type": "code",
   "execution_count": 60,
   "id": "611f69f7-1e99-48eb-9029-66b16767fe2f",
   "metadata": {},
   "outputs": [
    {
     "data": {
      "text/plain": [
       "array(['HelloOpen', 'WorldAI'], dtype='<U9')"
      ]
     },
     "execution_count": 60,
     "metadata": {},
     "output_type": "execute_result"
    }
   ],
   "source": [
    "def conca(arr1 , arr2):\n",
    "    return np.char.add(arr1 , arr2)\n",
    "\n",
    "arr1 = np.array(['Hello', 'World'])\n",
    "arr2 = np.array(['Open', 'AI'])\n",
    "\n",
    "conca(arr1 , arr2)"
   ]
  },
  {
   "cell_type": "markdown",
   "id": "86a42187-4977-4453-8648-83d0142a4768",
   "metadata": {},
   "source": [
    "# 60.Write a function that finds the length of the longest string in a NumPy array.])"
   ]
  },
  {
   "cell_type": "code",
   "execution_count": 61,
   "id": "77209396-bd45-4e8c-a893-128dc0f9cde6",
   "metadata": {},
   "outputs": [
    {
     "data": {
      "text/plain": [
       "9"
      ]
     },
     "execution_count": 61,
     "metadata": {},
     "output_type": "execute_result"
    }
   ],
   "source": [
    "def ll(arr):\n",
    "    len_arr = np.array([len(s) for s in arr])\n",
    "\n",
    "\n",
    "\n",
    "    return np.max(len_arr)\n",
    "\n",
    "\n",
    "arr = np.array(['apple', 'banana', 'grape', 'pineapple'])\n",
    "\n",
    "ll(arr)"
   ]
  },
  {
   "cell_type": "markdown",
   "id": "bd8bbde5-60e8-4733-b111-86e58da39bb5",
   "metadata": {},
   "source": [
    "# 61.Create a dataset of 100 random integers between 1 and 1000. Compute the mean, median, variance, and standard deviation of the dataset using NumPy's functionss"
   ]
  },
  {
   "cell_type": "code",
   "execution_count": 62,
   "id": "ffaef5ef-8ad2-46ec-bd02-8eac7add2683",
   "metadata": {},
   "outputs": [
    {
     "name": "stdout",
     "output_type": "stream",
     "text": [
      "Mean: 525.92\n",
      "Median: 557.0\n",
      "Variance: 72946.81360000001\n",
      "Standard Deviation: 270.0866779387684\n"
     ]
    }
   ],
   "source": [
    "data = np.random.randint(1,1001,100)\n",
    "\n",
    "\n",
    "mean = np.mean(data)\n",
    "median = np.median(data)\n",
    "variance = np.var(data)\n",
    "std_dev = np.std(data)\n",
    "\n",
    "print(\"Mean:\", mean)\n",
    "print(\"Median:\", median)\n",
    "print(\"Variance:\", variance)\n",
    "print(\"Standard Deviation:\", std_dev)"
   ]
  },
  {
   "cell_type": "markdown",
   "id": "102647d2-f6a1-435f-b6c0-bf7ead592608",
   "metadata": {},
   "source": [
    "# 62.Generate an array of 50 random numbers between 1 and 100. Find the 25th and 75th percentiles of the datasett"
   ]
  },
  {
   "cell_type": "code",
   "execution_count": 63,
   "id": "054a3152-a51e-4651-aecc-90b219c4156f",
   "metadata": {},
   "outputs": [
    {
     "data": {
      "text/plain": [
       "array([1., 1.])"
      ]
     },
     "execution_count": 63,
     "metadata": {},
     "output_type": "execute_result"
    }
   ],
   "source": [
    "arr = np.random.randint(1, 100 , 50)\n",
    "np.percentile(arr , [0.25,0.75])"
   ]
  },
  {
   "cell_type": "markdown",
   "id": "060d1d19-5410-4375-bdb1-c7f942785776",
   "metadata": {},
   "source": [
    "# 63.Create two arrays representing two sets of variables. Compute the correlation coefficient between these arrays using NumPy's `corrcoef` functionn"
   ]
  },
  {
   "cell_type": "code",
   "execution_count": 64,
   "id": "6a4042cf-012e-4579-9582-89aca2cbe54f",
   "metadata": {},
   "outputs": [
    {
     "data": {
      "text/plain": [
       "array([[1.        , 0.77459667],\n",
       "       [0.77459667, 1.        ]])"
      ]
     },
     "execution_count": 64,
     "metadata": {},
     "output_type": "execute_result"
    }
   ],
   "source": [
    "x = np.array([1, 2, 3, 4, 5])\n",
    "y = np.array([2, 4, 5, 4, 5])\n",
    "\n",
    "np.corrcoef(x , y)"
   ]
  },
  {
   "cell_type": "markdown",
   "id": "1bd19141-bb4d-4de4-af66-4a51f38f100c",
   "metadata": {},
   "source": [
    "# 64.Create two matrices and perform matrix multiplication using NumPy's `dot` function"
   ]
  },
  {
   "cell_type": "code",
   "execution_count": 65,
   "id": "536d3222-f84d-4598-ad68-94e28388d29a",
   "metadata": {},
   "outputs": [
    {
     "data": {
      "text/plain": [
       "array([[19, 22],\n",
       "       [43, 50]])"
      ]
     },
     "execution_count": 65,
     "metadata": {},
     "output_type": "execute_result"
    }
   ],
   "source": [
    "matrix1 = np.array([[1, 2], [3, 4]])\n",
    "matrix2 = np.array([[5, 6], [7, 8]])\n",
    "\n",
    "\n",
    "np.dot(matrix1 , matrix2)"
   ]
  },
  {
   "cell_type": "markdown",
   "id": "4f87bc2d-5c04-412a-8c82-b3d4cbe0103e",
   "metadata": {},
   "source": [
    "# 65.Create an array of 50 integers between 10 and 1000. Calculate the 10th, 50th (median), and 90th percentiles along with the first and third quartiless"
   ]
  },
  {
   "cell_type": "code",
   "execution_count": 66,
   "id": "ff205eeb-c926-4ad5-a2da-1ceb54ba3680",
   "metadata": {},
   "outputs": [
    {
     "name": "stdout",
     "output_type": "stream",
     "text": [
      "[35.441 37.205 38.969]\n",
      "[231.   719.75]\n"
     ]
    }
   ],
   "source": [
    "arr = np.random.randint(10,1001,50)\n",
    "\n",
    "print(np.percentile(arr , [0.10 ,0.50 , 0.90]))\n",
    "\n",
    "print(np.quantile(arr , [.25 , .75]))"
   ]
  },
  {
   "cell_type": "markdown",
   "id": "37ae6f76-5f49-4706-b8b5-3f7a15ac2b8d",
   "metadata": {},
   "source": [
    "# 66.Create a NumPy array of integers and find the index of a specific element"
   ]
  },
  {
   "cell_type": "code",
   "execution_count": 70,
   "id": "b07cb5dc-74f2-4694-a471-ac7f273ebcbe",
   "metadata": {},
   "outputs": [
    {
     "name": "stdout",
     "output_type": "stream",
     "text": [
      "45\n"
     ]
    }
   ],
   "source": [
    "#arr = np.random.randint(10,1001,50)\n",
    "\n",
    "print(np.where(arr == 667)[0][0])"
   ]
  },
  {
   "cell_type": "markdown",
   "id": "8adf5687-5a0b-4689-bd31-7becf5227987",
   "metadata": {},
   "source": [
    "# 67.Generate a random NumPy array and sort it in ascending order"
   ]
  },
  {
   "cell_type": "code",
   "execution_count": 71,
   "id": "05556442-109d-4e01-b9ac-a76ccaa7b494",
   "metadata": {},
   "outputs": [
    {
     "name": "stdout",
     "output_type": "stream",
     "text": [
      "Array before sorting \n",
      "\n",
      " [931 538 964 521 518 485 765 125 608 359]\n",
      "\n",
      "Array after sorting \n",
      "\n",
      " [125 359 485 518 521 538 608 765 931 964]\n"
     ]
    }
   ],
   "source": [
    "arr = np.random.randint(100,1001,10)\n",
    "\n",
    "print(\"Array before sorting \\n\\n\" , arr)\n",
    "\n",
    "copy = np.sort(arr)\n",
    "\n",
    "print(\"\\nArray after sorting \\n\\n\" , copy)"
   ]
  },
  {
   "cell_type": "markdown",
   "id": "83033622-09c3-4eb8-b0e2-51afa2d0c3ae",
   "metadata": {},
   "source": [
    "# 68.Filter elements >20  in the given NumPy array"
   ]
  },
  {
   "cell_type": "code",
   "execution_count": 72,
   "id": "9fc2cd8e-a02e-48b6-ae89-82bde7e038d0",
   "metadata": {},
   "outputs": [
    {
     "data": {
      "text/plain": [
       "array([25, 42, 30])"
      ]
     },
     "execution_count": 72,
     "metadata": {},
     "output_type": "execute_result"
    }
   ],
   "source": [
    "arr = np.array([12, 25, 6, 42, 8, 30])\n",
    "\n",
    "arr[arr>20]"
   ]
  },
  {
   "cell_type": "markdown",
   "id": "0096185d-fed2-42e6-8c89-99969ff3e572",
   "metadata": {},
   "source": [
    "# 69.Filter elements which are divisible by 3 from a given NumPy array"
   ]
  },
  {
   "cell_type": "code",
   "execution_count": 73,
   "id": "23c5e86a-a6e6-429a-9c3c-dd403ebecf5a",
   "metadata": {},
   "outputs": [
    {
     "data": {
      "text/plain": [
       "array([12, 15])"
      ]
     },
     "execution_count": 73,
     "metadata": {},
     "output_type": "execute_result"
    }
   ],
   "source": [
    "arr = np.array([1, 5, 8, 12, 15])\n",
    "\n",
    "arr[arr%3 == 0]"
   ]
  },
  {
   "cell_type": "markdown",
   "id": "c1e6d70a-e586-4909-bcb2-e89400d972b8",
   "metadata": {},
   "source": [
    "# 70.Filter elements which are ≥ 20 and ≤ 40 from a given NumPy array"
   ]
  },
  {
   "cell_type": "code",
   "execution_count": 74,
   "id": "bef55a64-299c-4346-83a0-52ced080189f",
   "metadata": {},
   "outputs": [
    {
     "data": {
      "text/plain": [
       "array([20, 30, 40])"
      ]
     },
     "execution_count": 74,
     "metadata": {},
     "output_type": "execute_result"
    }
   ],
   "source": [
    "arr = np.array([10, 20, 30, 40, 50])\n",
    "\n",
    "arr[(arr>= 20) & (arr<= 40)]"
   ]
  },
  {
   "cell_type": "markdown",
   "id": "5cfead6e-6cd3-4308-9e30-437722e2e936",
   "metadata": {},
   "source": [
    "# 71.For the given NumPy array, check its byte order using the `dtype` attribute byteorder"
   ]
  },
  {
   "cell_type": "code",
   "execution_count": 75,
   "id": "ca422f1f-f61f-417b-86d6-756b9170e0c5",
   "metadata": {},
   "outputs": [
    {
     "data": {
      "text/plain": [
       "'='"
      ]
     },
     "execution_count": 75,
     "metadata": {},
     "output_type": "execute_result"
    }
   ],
   "source": [
    "arr = np.array([1, 2, 3])\n",
    "\n",
    "\n",
    "arr.dtype.byteorder #Ante each ki enni bytes unayo anesi"
   ]
  },
  {
   "cell_type": "markdown",
   "id": "47490995-2475-4a68-a5e1-77c9ed4b2a53",
   "metadata": {},
   "source": [
    "# 72.For the given NumPy array, perform byte swapping in place using `byteswap()`"
   ]
  },
  {
   "cell_type": "code",
   "execution_count": 76,
   "id": "00766213-b578-4f7a-9f85-e07e5a515b2a",
   "metadata": {},
   "outputs": [
    {
     "data": {
      "text/plain": [
       "array([16777216, 33554432, 50331648])"
      ]
     },
     "execution_count": 76,
     "metadata": {},
     "output_type": "execute_result"
    }
   ],
   "source": [
    "arr = np.array([1, 2, 3], dtype=np.int32)\n",
    "\n",
    "arr.byteswap()"
   ]
  },
  {
   "cell_type": "markdown",
   "id": "8ff000e4-cde1-4423-b2b0-603d48a0c369",
   "metadata": {},
   "source": [
    "# 73. For the given NumPy array, swap its byte order without modifying the original array using `newbyteorder()``"
   ]
  },
  {
   "cell_type": "code",
   "execution_count": 77,
   "id": "77177dd6-28b0-4832-8d24-7716a0bb813b",
   "metadata": {},
   "outputs": [
    {
     "data": {
      "text/plain": [
       "array([16777216, 33554432, 50331648])"
      ]
     },
     "execution_count": 77,
     "metadata": {},
     "output_type": "execute_result"
    }
   ],
   "source": [
    "arr = np.array([1, 2, 3], dtype=np.int32)\n",
    "\n",
    "arr.newbyteorder()"
   ]
  },
  {
   "cell_type": "markdown",
   "id": "6a55ea9c-00fb-443a-a2f4-85db0579b7ad",
   "metadata": {},
   "source": [
    "# 74.For the given NumPy array and swap its byte order conditionally based on system endianness using `newbyteorder()``"
   ]
  },
  {
   "cell_type": "code",
   "execution_count": 78,
   "id": "706cf2e7-c29f-44fe-9ad1-d88d8ce5a30a",
   "metadata": {},
   "outputs": [
    {
     "name": "stdout",
     "output_type": "stream",
     "text": [
      "Original array: [1 2 3]\n",
      "New array with conditionally swapped byte order: [1 2 3]\n"
     ]
    }
   ],
   "source": [
    "arr = np.array([1, 2, 3], dtype=np.int32)\n",
    "\n",
    "import sys\n",
    "\n",
    "system_byte_order = sys.byteorder\n",
    "\n",
    "# Swap byte order if necessary\n",
    "if system_byte_order == 'little':\n",
    "    new_arr = arr.astype(arr.dtype.newbyteorder('>'))\n",
    "else:\n",
    "    new_arr = arr.astype(arr.dtype.newbyteorder('<'))\n",
    "\n",
    "print(\"Original array:\", arr)\n",
    "print(\"New array with conditionally swapped byte order:\", new_arr)"
   ]
  },
  {
   "cell_type": "markdown",
   "id": "06944689-8d9d-4cf0-8ed4-f40076458cf4",
   "metadata": {},
   "source": [
    "# 75.For the given NumPy array, check if byte swapping is necessary for the current system using `dtype` attribute `byteorder`"
   ]
  },
  {
   "cell_type": "code",
   "execution_count": 79,
   "id": "8b7f355e-050c-4fd7-8f27-90c04cd2a0b3",
   "metadata": {},
   "outputs": [
    {
     "name": "stdout",
     "output_type": "stream",
     "text": [
      "Byte swapping is necessary.\n"
     ]
    }
   ],
   "source": [
    "arr = np.array([1, 2, 3], dtype=np.int32)\n",
    "\n",
    "if arr.dtype.byteorder != sys.byteorder:\n",
    "    print(\"Byte swapping is necessary.\")\n",
    "else:\n",
    "    print(\"Byte swapping is not necessary.\")"
   ]
  },
  {
   "cell_type": "markdown",
   "id": "d173e718-7064-47be-83cf-80c5a2e6d0b1",
   "metadata": {},
   "source": [
    "# 76.Create a NumPy array `arr1` with values from 1 to 10. Create a copy of `arr1` named `copy_arr` and modify an element in `copy_arr`. Check if modifying `copy_arr` affects `arr1``"
   ]
  },
  {
   "cell_type": "code",
   "execution_count": 80,
   "id": "b39fe382-c4d8-4dc4-90ce-8a1cdb57090b",
   "metadata": {},
   "outputs": [
    {
     "name": "stdout",
     "output_type": "stream",
     "text": [
      "arr1: [ 1  2  3  4  5  6  7  8  9 10]\n",
      "copy_arr: [100   2   3   4   5   6   7   8   9  10]\n"
     ]
    }
   ],
   "source": [
    "arr1 = np.array([1, 2, 3, 4, 5, 6, 7, 8, 9, 10])\n",
    "\n",
    "\n",
    "copy_arr = arr1.copy()\n",
    "\n",
    "\n",
    "copy_arr[0] = 100\n",
    "\n",
    "\n",
    "print(\"arr1:\", arr1)\n",
    "print(\"copy_arr:\", copy_arr)"
   ]
  },
  {
   "cell_type": "markdown",
   "id": "219b6594-0d3c-4be0-99e5-943aebe8913b",
   "metadata": {},
   "source": [
    "# 77.Create a 2D NumPy array `matrix` of shape (3, 3) with random integers. Extract a slice `view_slice` from the matrix. Modify an element in `view_slice` and observe if it changes the original `matrix`."
   ]
  },
  {
   "cell_type": "code",
   "execution_count": 81,
   "id": "8435e542-73e6-4f15-94f4-50c75c48694a",
   "metadata": {},
   "outputs": [
    {
     "name": "stdout",
     "output_type": "stream",
     "text": [
      "Original matrix:\n",
      "[[ 3 99  9]\n",
      " [ 4  2  1]\n",
      " [ 2  7  7]]\n"
     ]
    }
   ],
   "source": [
    "matrix = np.random.randint(0, 10, (3, 3))\n",
    "\n",
    "\n",
    "view_slice = matrix[0:2, 1:3]\n",
    "\n",
    "\n",
    "view_slice[0, 0] = 99\n",
    "\n",
    "\n",
    "print(\"Original matrix:\")\n",
    "print(matrix)"
   ]
  },
  {
   "cell_type": "markdown",
   "id": "4bfa0c34-4e91-4f74-91ef-2d1512f0d53c",
   "metadata": {},
   "source": [
    "# 78.Create a NumPy array `array_a` of shape (4, 3) with sequential integers from 1 to 12. Extract a slice `view_b` from `array_a` and broadcast the addition of 5 to view_b. Check if it alters the original `array_a`a"
   ]
  },
  {
   "cell_type": "code",
   "execution_count": 82,
   "id": "4b6ead91-f18f-488d-9c1d-d86026cf9c37",
   "metadata": {},
   "outputs": [
    {
     "name": "stdout",
     "output_type": "stream",
     "text": [
      "Original array_a:\n",
      "\n",
      "[[ 1  2  3]\n",
      " [ 4 10 11]\n",
      " [ 7 13 14]\n",
      " [10 11 12]]\n"
     ]
    }
   ],
   "source": [
    "array_a = np.arange(1, 13).reshape(4, 3)\n",
    "\n",
    "\n",
    "view_b = array_a[1:3, 1:3]\n",
    "\n",
    "\n",
    "view_b += 5\n",
    "\n",
    "\n",
    "print(\"Original array_a:\\n\")\n",
    "print(array_a)"
   ]
  },
  {
   "cell_type": "markdown",
   "id": "9e398df6-f22e-4442-9074-443d7264d04c",
   "metadata": {},
   "source": [
    "# 79.Create a NumPy array `orig_array` of shape (2, 4) with values from 1 to 8. Create a reshaped view `reshaped_view` of shape (4, 2) from orig_array. Modify an element in `reshaped_view` and check if it reflects changes in the original `orig_array`y`"
   ]
  },
  {
   "cell_type": "code",
   "execution_count": 83,
   "id": "9d0a58ae-9804-46ca-8942-d48d90131b13",
   "metadata": {},
   "outputs": [
    {
     "name": "stdout",
     "output_type": "stream",
     "text": [
      "Original array:\n",
      "\n",
      "[[100   2   3   4]\n",
      " [  5   6   7   8]]\n"
     ]
    }
   ],
   "source": [
    "orig_array = np.arange(1, 9).reshape(2, 4)\n",
    "\n",
    "\n",
    "reshaped_view = orig_array.reshape(4, 2)\n",
    "\n",
    "\n",
    "reshaped_view[0, 0] = 100\n",
    "\n",
    "\n",
    "print(\"Original array:\\n\")\n",
    "print(orig_array)"
   ]
  },
  {
   "cell_type": "markdown",
   "id": "87f1a56f-d047-4dba-9c08-7c1a3796627e",
   "metadata": {},
   "source": [
    "# 80.Create a NumPy array `data` of shape (3, 4) with random integers. Extract a copy `data_copy` of elements greater than 5. Modify an element in `data_copy` and verify if it affects the original `data``"
   ]
  },
  {
   "cell_type": "code",
   "execution_count": 84,
   "id": "db6b2515-259d-403a-bf27-644a3b76cd3e",
   "metadata": {},
   "outputs": [
    {
     "name": "stdout",
     "output_type": "stream",
     "text": [
      "Original data:\n",
      "\n",
      "[[0 7 5 6]\n",
      " [3 3 4 7]\n",
      " [5 8 9 2]]\n",
      "\n",
      "\n",
      "Data copy:\n",
      "\n",
      "[100   6   7   8   9]\n"
     ]
    }
   ],
   "source": [
    "data = np.random.randint(0, 10, (3, 4))\n",
    "\n",
    "\n",
    "data_copy = data[data > 5].copy()\n",
    "\n",
    "\n",
    "data_copy[0] = 100\n",
    "\n",
    "\n",
    "print(\"Original data:\\n\")\n",
    "print(data)\n",
    "\n",
    "print(\"\\n\\nData copy:\\n\")\n",
    "print(data_copy)"
   ]
  },
  {
   "cell_type": "markdown",
   "id": "de8220bf-dffc-42ef-a61f-c80076c1a54d",
   "metadata": {},
   "source": [
    "# 81.Create two matrices A and B of identical shape containing integers and perform addition and subtraction operations between themm"
   ]
  },
  {
   "cell_type": "code",
   "execution_count": 85,
   "id": "f4ed89f4-5e4c-4dba-ac17-a960b4f6fcf0",
   "metadata": {},
   "outputs": [
    {
     "name": "stdout",
     "output_type": "stream",
     "text": [
      "Sum of A and B:\n",
      "\n",
      "[[12  8 11  4]\n",
      " [10 13 11  8]\n",
      " [10 11  4 10]]\n",
      "\n",
      "\n",
      "\n",
      "Difference of A and B:\n",
      "\n",
      "[[ 2  2 -5  0]\n",
      " [-2 -3 -7 -4]\n",
      " [-8 -1  2 -4]]\n"
     ]
    }
   ],
   "source": [
    "A = np.random.randint(1, 10, (3 , 4))\n",
    "B = np.random.randint(1, 10, (3 ,4))\n",
    "\n",
    "\n",
    "sum_matrix = A + B\n",
    "difference_matrix = A - B\n",
    "\n",
    "\n",
    "print(\"Sum of A and B:\\n\")\n",
    "print(sum_matrix)\n",
    "\n",
    "print(\"\\n\\n\\nDifference of A and B:\\n\")\n",
    "print(difference_matrix)"
   ]
  },
  {
   "cell_type": "markdown",
   "id": "cc779d32-67ab-4ed9-8699-75425c232a3c",
   "metadata": {},
   "source": [
    "# 82.Generate two matrices `C` (3x2) and `D` (2x4) and perform matrix multiplication"
   ]
  },
  {
   "cell_type": "code",
   "execution_count": 86,
   "id": "6b81d94f-4ffc-4e07-8c5c-92899279e930",
   "metadata": {},
   "outputs": [
    {
     "data": {
      "text/plain": [
       "array([[27, 44, 46, 51],\n",
       "       [27, 25, 29, 30],\n",
       "       [30, 32, 36, 38]])"
      ]
     },
     "execution_count": 86,
     "metadata": {},
     "output_type": "execute_result"
    }
   ],
   "source": [
    "C = np.random.randint(1, 10, (3, 2))\n",
    "D = np.random.randint(1, 10, (2, 4))\n",
    "\n",
    "\n",
    "np.dot(C, D)"
   ]
  },
  {
   "cell_type": "markdown",
   "id": "d4a91ecc-b388-4331-a42f-9dc72bcb91c3",
   "metadata": {},
   "source": [
    "# 83.Create a matrix `E` and find its transpose"
   ]
  },
  {
   "cell_type": "code",
   "execution_count": 87,
   "id": "0aab3c30-8a64-4a27-9a51-a745382a3f4e",
   "metadata": {},
   "outputs": [
    {
     "name": "stdout",
     "output_type": "stream",
     "text": [
      "Matrix E:\n",
      "\n",
      "[[1 3 2 9]\n",
      " [8 9 5 7]\n",
      " [2 9 3 1]]\n",
      "\n",
      "\n",
      "Transpose of E:\n",
      "\n",
      "[[1 8 2]\n",
      " [3 9 9]\n",
      " [2 5 3]\n",
      " [9 7 1]]\n"
     ]
    }
   ],
   "source": [
    "E = np.random.randint(1, 10, (3, 4))\n",
    "\n",
    "print(\"Matrix E:\\n\")\n",
    "print(E)\n",
    "\n",
    "print(\"\\n\\nTranspose of E:\\n\")\n",
    "print(E.T)"
   ]
  },
  {
   "cell_type": "markdown",
   "id": "9d4100b1-34b2-4e07-9e43-ed24bd0c28a9",
   "metadata": {},
   "source": [
    "# 84.Generate a square matrix `F` and compute its determinant"
   ]
  },
  {
   "cell_type": "code",
   "execution_count": 88,
   "id": "6968b398-f501-4fef-89cf-004535d4bfe5",
   "metadata": {},
   "outputs": [
    {
     "name": "stdout",
     "output_type": "stream",
     "text": [
      "Matrix F:\n",
      "\n",
      "[[3 4 1 8]\n",
      " [9 8 8 4]\n",
      " [1 2 4 2]\n",
      " [6 6 1 3]]\n",
      "\n",
      "\n",
      "Determinant of F:\n",
      "\n",
      "330.0000000000002\n"
     ]
    }
   ],
   "source": [
    "F = np.random.randint(1, 10, (4, 4))\n",
    "\n",
    "\n",
    "determinant = np.linalg.det(F)\n",
    "\n",
    "print(\"Matrix F:\\n\")\n",
    "print(F)\n",
    "\n",
    "print(\"\\n\\nDeterminant of F:\\n\")\n",
    "print(determinant)"
   ]
  },
  {
   "cell_type": "markdown",
   "id": "ef592c5b-a457-48de-8bba-a7071a80372c",
   "metadata": {},
   "source": [
    "# 85.Create a square matrix `G` and find its inverse"
   ]
  },
  {
   "cell_type": "code",
   "execution_count": 89,
   "id": "56ade280-fd72-4745-8c15-899ae5d440e2",
   "metadata": {},
   "outputs": [
    {
     "name": "stdout",
     "output_type": "stream",
     "text": [
      "Matrix G:\n",
      "\n",
      "[[1 5 2 5]\n",
      " [2 9 4 4]\n",
      " [5 6 3 7]\n",
      " [1 3 3 2]]\n",
      "\n",
      "\n",
      "Inverse of G:\n",
      "\n",
      "[[-0.39622642  0.0754717   0.27044025 -0.10691824]\n",
      " [-0.03773585  0.24528302 -0.03773585 -0.26415094]\n",
      " [-0.05660377 -0.13207547 -0.05660377  0.60377358]\n",
      " [ 0.33962264 -0.20754717  0.00628931  0.04402516]]\n"
     ]
    }
   ],
   "source": [
    "G = np.random.randint(1, 10, (4, 4))\n",
    "\n",
    "\n",
    "inverse_G = np.linalg.inv(G)\n",
    "\n",
    "print(\"Matrix G:\\n\")\n",
    "print(G)\n",
    "\n",
    "print(\"\\n\\nInverse of G:\\n\")\n",
    "print(inverse_G)"
   ]
  }
 ],
 "metadata": {
  "kernelspec": {
   "display_name": "Python 3 (ipykernel)",
   "language": "python",
   "name": "python3"
  },
  "language_info": {
   "codemirror_mode": {
    "name": "ipython",
    "version": 3
   },
   "file_extension": ".py",
   "mimetype": "text/x-python",
   "name": "python",
   "nbconvert_exporter": "python",
   "pygments_lexer": "ipython3",
   "version": "3.11.5"
  }
 },
 "nbformat": 4,
 "nbformat_minor": 5
}
