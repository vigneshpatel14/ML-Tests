{
  "nbformat": 4,
  "nbformat_minor": 0,
  "metadata": {
    "colab": {
      "provenance": [],
      "toc_visible": true
    },
    "kernelspec": {
      "name": "python3",
      "display_name": "Python 3"
    },
    "language_info": {
      "name": "python"
    }
  },
  "cells": [
    {
      "cell_type": "code",
      "execution_count": null,
      "metadata": {
        "id": "c--baKMWxbno"
      },
      "outputs": [],
      "source": []
    },
    {
      "cell_type": "markdown",
      "source": [
        "Write a code to reverse a string"
      ],
      "metadata": {
        "id": "oWnrW-eoy6ts"
      }
    },
    {
      "cell_type": "code",
      "source": [
        "#Write a code to reverse a string\n",
        "\n",
        "s = input(\"Enter string to reverse \")\n",
        "k=s[::-1]\n",
        "print(k)"
      ],
      "metadata": {
        "colab": {
          "base_uri": "https://localhost:8080/"
        },
        "id": "7J-_AElWy5_2",
        "outputId": "424d79d7-a88b-41b5-b7e7-c46ef2bd9358"
      },
      "execution_count": 3,
      "outputs": [
        {
          "output_type": "stream",
          "name": "stdout",
          "text": [
            "Enter string to reverse pwskills\n",
            "sllikswp\n"
          ]
        }
      ]
    },
    {
      "cell_type": "markdown",
      "source": [
        "2. Write a code to count the number of vowels in a string."
      ],
      "metadata": {
        "id": "u0_RJJLgznHH"
      }
    },
    {
      "cell_type": "code",
      "source": [
        "#2. Write a code to count the number of vowels in a string.\n",
        "str = input(\"Enter string\")\n",
        "count = 0\n",
        "for i in str:\n",
        "  if(i=='a' or i=='e' or i=='i' or i=='o' or i=='u' or i=='A' or i=='E' or i=='I' or i=='O' or i=='U'):\n",
        "            count=count+1\n",
        "print(\"Number of vowels are: \")\n",
        "print(count)"
      ],
      "metadata": {
        "colab": {
          "base_uri": "https://localhost:8080/"
        },
        "id": "iOt-3lrVzTKB",
        "outputId": "1349c563-fee6-4c3e-def8-e16b90e5efa3"
      },
      "execution_count": 5,
      "outputs": [
        {
          "output_type": "stream",
          "name": "stdout",
          "text": [
            "Enter stringhello\n",
            "Number of vowels are: \n",
            "2\n"
          ]
        }
      ]
    },
    {
      "cell_type": "markdown",
      "source": [
        "3. Write a code to check if a given string is a palindrome or not."
      ],
      "metadata": {
        "id": "vL65IG3l0kbB"
      }
    },
    {
      "cell_type": "code",
      "source": [
        "#3. Write a code to check if a given string is a palindrome or not.\n",
        "str=input(\"Enter a string:\")\n",
        "x = str\n",
        "\n",
        "w = \"\"\n",
        "for i in x:\n",
        "    w = i + w\n",
        "\n",
        "if (x == w):\n",
        "    print(\"Yes\")\n",
        "else:\n",
        "    print(\"No\")"
      ],
      "metadata": {
        "colab": {
          "base_uri": "https://localhost:8080/"
        },
        "id": "iaRNtgIl0R3l",
        "outputId": "6668427c-5d7b-45ee-95ed-5a3663ab2b45"
      },
      "execution_count": 9,
      "outputs": [
        {
          "output_type": "stream",
          "name": "stdout",
          "text": [
            "Enter a string:hello\n",
            "No\n"
          ]
        }
      ]
    },
    {
      "cell_type": "markdown",
      "source": [
        " 4. Write a code to check if two given strings are anagrams of each other"
      ],
      "metadata": {
        "id": "NXrA1XPu2PRC"
      }
    },
    {
      "cell_type": "code",
      "source": [
        "# 4. Write a code to check if two given strings are anagrams of each other\n",
        "def are_anagrams(str1, str2):\n",
        "    str1 = sorted(str1)\n",
        "    str2 = sorted(str2)\n",
        "    return str1 == str2\n",
        "\n",
        "string1 = input(\"Enter 1st string:\")\n",
        "string2 = input(\"Enter 2nd string:\")\n",
        "\n",
        "if are_anagrams(string1, string2):\n",
        "    print(f\"{string1} and {string2} are anagrams.\")\n",
        "else:\n",
        "    print(f\"{string1} and {string2} are not anagrams.\")"
      ],
      "metadata": {
        "colab": {
          "base_uri": "https://localhost:8080/"
        },
        "id": "R8BUPlH52O5D",
        "outputId": "33e69dc9-1ea2-40ba-ff95-8363215a09ab"
      },
      "execution_count": 12,
      "outputs": [
        {
          "output_type": "stream",
          "name": "stdout",
          "text": [
            "Enter 1st string:heart\n",
            "Enter 2nd string:earth\n",
            "heart and earth are anagrams.\n"
          ]
        }
      ]
    },
    {
      "cell_type": "markdown",
      "source": [
        "6.Write a code to perform basic string compression using the counts of repeated character"
      ],
      "metadata": {
        "id": "xuOVftJw34UN"
      }
    },
    {
      "cell_type": "code",
      "source": [
        "#6.Write a code to perform basic string compression using the counts of repeated character\n"
      ],
      "metadata": {
        "colab": {
          "base_uri": "https://localhost:8080/",
          "height": 298
        },
        "id": "sjYVt4Cw3-o_",
        "outputId": "1204513b-d123-4017-af6c-2cb7bbf56674"
      },
      "execution_count": 16,
      "outputs": [
        {
          "output_type": "error",
          "ename": "TypeError",
          "evalue": "'str' object is not callable",
          "traceback": [
            "\u001b[0;31m---------------------------------------------------------------------------\u001b[0m",
            "\u001b[0;31mTypeError\u001b[0m                                 Traceback (most recent call last)",
            "\u001b[0;32m<ipython-input-16-c968e38afd7e>\u001b[0m in \u001b[0;36m<cell line: 19>\u001b[0;34m()\u001b[0m\n\u001b[1;32m     17\u001b[0m \u001b[0;34m\u001b[0m\u001b[0m\n\u001b[1;32m     18\u001b[0m \u001b[0ms\u001b[0m \u001b[0;34m=\u001b[0m \u001b[0;34m\"abbbaaaaaaccdaaab\"\u001b[0m\u001b[0;34m\u001b[0m\u001b[0;34m\u001b[0m\u001b[0m\n\u001b[0;32m---> 19\u001b[0;31m \u001b[0mprint\u001b[0m\u001b[0;34m(\u001b[0m\u001b[0msolve\u001b[0m\u001b[0;34m(\u001b[0m\u001b[0ms\u001b[0m\u001b[0;34m)\u001b[0m\u001b[0;34m)\u001b[0m\u001b[0;34m\u001b[0m\u001b[0;34m\u001b[0m\u001b[0m\n\u001b[0m",
            "\u001b[0;32m<ipython-input-16-c968e38afd7e>\u001b[0m in \u001b[0;36msolve\u001b[0;34m(s)\u001b[0m\n\u001b[1;32m      9\u001b[0m          \u001b[0mres\u001b[0m \u001b[0;34m=\u001b[0m \u001b[0mres\u001b[0m \u001b[0;34m+\u001b[0m \u001b[0ms\u001b[0m\u001b[0;34m[\u001b[0m\u001b[0mi\u001b[0m \u001b[0;34m-\u001b[0m \u001b[0;36m1\u001b[0m\u001b[0;34m]\u001b[0m\u001b[0;34m\u001b[0m\u001b[0;34m\u001b[0m\u001b[0m\n\u001b[1;32m     10\u001b[0m          \u001b[0;32mif\u001b[0m \u001b[0mcnt\u001b[0m \u001b[0;34m>\u001b[0m \u001b[0;36m1\u001b[0m\u001b[0;34m:\u001b[0m\u001b[0;34m\u001b[0m\u001b[0;34m\u001b[0m\u001b[0m\n\u001b[0;32m---> 11\u001b[0;31m             \u001b[0mres\u001b[0m \u001b[0;34m=\u001b[0m \u001b[0mres\u001b[0m \u001b[0;34m+\u001b[0m \u001b[0ms\u001b[0m\u001b[0;34m(\u001b[0m\u001b[0mcnt\u001b[0m\u001b[0;34m)\u001b[0m\u001b[0;34m\u001b[0m\u001b[0;34m\u001b[0m\u001b[0m\n\u001b[0m\u001b[1;32m     12\u001b[0m          \u001b[0mcnt\u001b[0m \u001b[0;34m=\u001b[0m \u001b[0;36m1\u001b[0m\u001b[0;34m\u001b[0m\u001b[0;34m\u001b[0m\u001b[0m\n\u001b[1;32m     13\u001b[0m    \u001b[0mres\u001b[0m \u001b[0;34m=\u001b[0m \u001b[0mres\u001b[0m \u001b[0;34m+\u001b[0m \u001b[0ms\u001b[0m\u001b[0;34m[\u001b[0m\u001b[0;34m-\u001b[0m\u001b[0;36m1\u001b[0m\u001b[0;34m]\u001b[0m\u001b[0;34m\u001b[0m\u001b[0;34m\u001b[0m\u001b[0m\n",
            "\u001b[0;31mTypeError\u001b[0m: 'str' object is not callable"
          ]
        }
      ]
    },
    {
      "cell_type": "markdown",
      "source": [
        "7.Write a code to determine if a string has all unique characters"
      ],
      "metadata": {
        "id": "SfuOGw0N4wsi"
      }
    },
    {
      "cell_type": "code",
      "source": [
        "#7.Write a code to determine if a string has all unique characters\n",
        "\n",
        "s = input(\"Enter string for evaluation:  \")\n",
        "k=1\n",
        "for i in range(len(s)):\n",
        "        if s[i] in s[i+1:]:\n",
        "            k=-1\n",
        "if k == -1:\n",
        "  print(\"NOT UNIQUE\")\n",
        "else:\n",
        "  print(\"UNIQUE\")"
      ],
      "metadata": {
        "colab": {
          "base_uri": "https://localhost:8080/"
        },
        "id": "32DAjXqx5CFs",
        "outputId": "2287b53d-3ac5-45df-df1a-538b160622dc"
      },
      "execution_count": 20,
      "outputs": [
        {
          "output_type": "stream",
          "name": "stdout",
          "text": [
            "Enter string for evaluation:  qwerty\n",
            "UNIQUE\n"
          ]
        }
      ]
    },
    {
      "cell_type": "markdown",
      "source": [
        "8. Write a code to convert a given string to uppercase or lowercase."
      ],
      "metadata": {
        "id": "tFWqkGt850xI"
      }
    },
    {
      "cell_type": "code",
      "source": [
        "#8. Write a code to convert a given string to uppercase or lowercase.\n",
        "s = input(\"Enter string for evaluation:  \")\n",
        "su = s.upper()\n",
        "sl = s.lower()\n",
        "print(f\"Upper case:{su}\")\n",
        "print(f\"Lower case:{sl}\")"
      ],
      "metadata": {
        "colab": {
          "base_uri": "https://localhost:8080/"
        },
        "id": "avR7WeG15G9w",
        "outputId": "3c7cdbe7-997d-4025-993b-cc0271772918"
      },
      "execution_count": 23,
      "outputs": [
        {
          "output_type": "stream",
          "name": "stdout",
          "text": [
            "Enter string for evaluation:  ewilutYYUU\n",
            "Upper case:EWILUTYYUU\n",
            "Lower case:ewilutyyuu\n"
          ]
        }
      ]
    },
    {
      "cell_type": "markdown",
      "source": [
        "9. Write a code to count the number of words in a string."
      ],
      "metadata": {
        "id": "0gVVbHuh6-cc"
      }
    },
    {
      "cell_type": "code",
      "source": [
        "#9. Write a code to count the number of words in a string.\n",
        "s = input(\"Enter string for evaluation:  \")\n",
        "print(len(s))"
      ],
      "metadata": {
        "colab": {
          "base_uri": "https://localhost:8080/"
        },
        "id": "ZCUZ1mcL6htT",
        "outputId": "17ce7da0-df14-463d-c78e-6c7508231934"
      },
      "execution_count": 24,
      "outputs": [
        {
          "output_type": "stream",
          "name": "stdout",
          "text": [
            "Enter string for evaluation:  string\n",
            "6\n"
          ]
        }
      ]
    },
    {
      "cell_type": "markdown",
      "source": [
        "10.Write a code to concatenate two strings without using the + operator"
      ],
      "metadata": {
        "id": "kFB12Nto7SEK"
      }
    },
    {
      "cell_type": "code",
      "source": [
        "#10.Write a code to concatenate two strings without using the + operator\n",
        "str1 = input(\"Enter 1st string:\")\n",
        "str2 = input(\"Enter 2nd string:\")\n",
        "concat = \"\".join([str1,str2])\n",
        "print(\"The concatenated string is\")\n",
        "print(concat)"
      ],
      "metadata": {
        "colab": {
          "base_uri": "https://localhost:8080/"
        },
        "id": "MWtwY5vZ7Mty",
        "outputId": "d6ec1e9c-f51b-4ed9-a61d-a84459b8ef5a"
      },
      "execution_count": 26,
      "outputs": [
        {
          "output_type": "stream",
          "name": "stdout",
          "text": [
            "Enter 1st string:str\n",
            "Enter 2nd string:ing\n",
            "The concatenated string is\n",
            "string\n"
          ]
        }
      ]
    },
    {
      "cell_type": "markdown",
      "source": [
        "12.Implement a code to find the second largest number in a given list of integers"
      ],
      "metadata": {
        "id": "lSVffGif82rV"
      }
    },
    {
      "cell_type": "code",
      "source": [
        "#12.Implement a code to find the second largest number in a given list of integers\n",
        "\n",
        "numbers = [10, 5, 20, 15, 25, 30]\n",
        "largest = second_largest = float('-inf')\n",
        "\n",
        "for num in numbers:\n",
        "    if num > largest:\n",
        "        second_largest = largest\n",
        "        largest = num\n",
        "    elif num > second_largest and num != largest:\n",
        "        second_largest = num\n",
        "\n",
        "print(\"The second largest number is:\", second_largest)"
      ],
      "metadata": {
        "colab": {
          "base_uri": "https://localhost:8080/"
        },
        "id": "2Uq57Y7y85MA",
        "outputId": "3824fef4-bea1-4fc6-a142-1612f5e19bb2"
      },
      "execution_count": 31,
      "outputs": [
        {
          "output_type": "stream",
          "name": "stdout",
          "text": [
            "The second largest number is: 25\n"
          ]
        }
      ]
    },
    {
      "cell_type": "markdown",
      "source": [
        "13.create a code to count the occurrences of each element in a list and return a dictionary with elements as\n",
        "keys and their counts as value"
      ],
      "metadata": {
        "id": "QqkPensu-YTj"
      }
    },
    {
      "cell_type": "code",
      "source": [
        "#13.create a code to count the occurrences of each element in a list and return a dictionary with elements as\n",
        "#keys and their counts as value\n",
        "\n",
        "elements = [1, 2, 3, 4, 2, 3, 4, 5, 2, 3, 2, 1, 2]\n",
        "element_counts = {}\n",
        "\n",
        "for element in elements:\n",
        "    if element in element_counts:\n",
        "        element_counts[element] += 1\n",
        "\n",
        "    else:\n",
        "        element_counts[element] = 1\n",
        "\n",
        "print(\"Elements count:\", element_counts)\n"
      ],
      "metadata": {
        "colab": {
          "base_uri": "https://localhost:8080/"
        },
        "id": "vkNaRBTs9pFD",
        "outputId": "62a3c096-b968-49e2-d237-7f2fdb10de48"
      },
      "execution_count": 32,
      "outputs": [
        {
          "output_type": "stream",
          "name": "stdout",
          "text": [
            "Elements count: {1: 2, 2: 5, 3: 3, 4: 2, 5: 1}\n"
          ]
        }
      ]
    },
    {
      "cell_type": "markdown",
      "source": [
        "14.Write a code to reverse a list in-place without using any built-in reverse functions."
      ],
      "metadata": {
        "id": "dn_um13f-_G8"
      }
    },
    {
      "cell_type": "code",
      "source": [
        "#14.Write a code to reverse a list in-place without using any built-in reverse functions.\n",
        "\n",
        "\n",
        "list = [1, 2, 3, 4, 5]\n",
        "\n",
        "list_length = len(list)\n",
        "\n",
        "for i in range(list_length//2):\n",
        "    list[i], list[list_length - 1 - i] = list[list_length - 1 - i], list[i]\n",
        "\n",
        "\n",
        "print(\"Reversed list:\", list)\n"
      ],
      "metadata": {
        "colab": {
          "base_uri": "https://localhost:8080/"
        },
        "id": "Cl86tYw3_GQ0",
        "outputId": "3550a507-cc81-4650-ea67-fac04f6f1909"
      },
      "execution_count": 39,
      "outputs": [
        {
          "output_type": "stream",
          "name": "stdout",
          "text": [
            "Reversed list: [5, 4, 3, 2, 1]\n"
          ]
        }
      ]
    },
    {
      "cell_type": "markdown",
      "source": [
        "15.Implement a code to find and remove duplicates from a list while preserving the original order of\n",
        "elements."
      ],
      "metadata": {
        "id": "0zSgro3hAKu2"
      }
    },
    {
      "cell_type": "code",
      "source": [
        "#15.Implement a code to find and remove duplicates from a list while preserving the original order of\n",
        "#elements\n",
        "\n",
        "my_list = [1, 2, 3, 2, 4, 5, 3, 6, 1]\n",
        "\n",
        "unique_list = []\n",
        "\n",
        "seen = set()\n",
        "\n",
        "for element in my_list:\n",
        "\n",
        "    if element not in seen:\n",
        "        unique_list.append(element)\n",
        "        seen.add(element)\n",
        "\n",
        "print( unique_list)\n"
      ],
      "metadata": {
        "colab": {
          "base_uri": "https://localhost:8080/"
        },
        "id": "0qpcnipN_tvf",
        "outputId": "b32a04fb-77de-4147-b52c-a0418e8d29b0"
      },
      "execution_count": 40,
      "outputs": [
        {
          "output_type": "stream",
          "name": "stdout",
          "text": [
            "[1, 2, 3, 4, 5, 6]\n"
          ]
        }
      ]
    },
    {
      "cell_type": "markdown",
      "source": [
        "16.Create a code to check if a given list is sorted (either in ascending or descending order) or not."
      ],
      "metadata": {
        "id": "SUbcrV3cA__q"
      }
    },
    {
      "cell_type": "code",
      "source": [
        "#16.Create a code to check if a given list is sorted (either in ascending or descending order) or not.\n",
        "\n",
        "\n",
        "\n",
        "my_list = [1, 2, 3, 4, 5]\n",
        "\n",
        "ascending = descending = True\n",
        "\n",
        "for i in range(len(my_list) - 1):\n",
        "    if my_list[i] > my_list[i + 1]:\n",
        "        ascending = False\n",
        "        break\n",
        "\n",
        "for i in range(len(my_list) - 1):\n",
        "    if my_list[i] < my_list[i + 1]:\n",
        "        descending = False\n",
        "        break\n",
        "\n",
        "if ascending:\n",
        "    print(\"The list is sorted in ascending order.\")\n",
        "elif descending:\n",
        "    print(\"The list is sorted in descending order.\")\n",
        "else:\n",
        "    print(\"The list is not sorted.\")"
      ],
      "metadata": {
        "colab": {
          "base_uri": "https://localhost:8080/"
        },
        "id": "FbDOGb5UA54F",
        "outputId": "daa43d21-50eb-4fee-8929-a3b461bb866f"
      },
      "execution_count": 41,
      "outputs": [
        {
          "output_type": "stream",
          "name": "stdout",
          "text": [
            "The list is sorted in ascending order.\n"
          ]
        }
      ]
    },
    {
      "cell_type": "markdown",
      "source": [
        "17.Write a code to merge two sorted lists into a single sorted list."
      ],
      "metadata": {
        "id": "2lGoj3YVBaht"
      }
    },
    {
      "cell_type": "code",
      "source": [
        "#Write a code to merge two sorted lists into a single sorted list\n",
        "\n",
        "my_list = [1, 2, 3, 4, 5]\n",
        "\n",
        "list = [1, 2, 3, 2, 4, 5, 3, 6, 1]\n",
        "\n",
        "merged = sorted(my_list)+sorted(list)\n",
        "print(sorted(merged))"
      ],
      "metadata": {
        "colab": {
          "base_uri": "https://localhost:8080/"
        },
        "id": "l2a-zldBBfWb",
        "outputId": "e0b9bd22-7ae6-4678-a565-43648c8b14e8"
      },
      "execution_count": 45,
      "outputs": [
        {
          "output_type": "stream",
          "name": "stdout",
          "text": [
            "[1, 1, 1, 2, 2, 2, 3, 3, 3, 4, 4, 5, 5, 6]\n"
          ]
        }
      ]
    },
    {
      "cell_type": "markdown",
      "source": [
        "18.implement a code to find the intersection of two given lists."
      ],
      "metadata": {
        "id": "G6BcxBtVCNKr"
      }
    },
    {
      "cell_type": "code",
      "source": [
        "#implement a code to find the intersection of two given lists.\n",
        "my_list = [1, 2, 3, 4, 5]\n",
        "\n",
        "list1 = [1, 2, 3, 2, 4, 5, 3, 6, 1]\n",
        "\n",
        "inter = []\n",
        "\n",
        "for item in my_list:\n",
        "    if item in list1 and item not in inter:\n",
        "        inter.append(item)\n",
        "\n",
        "print(inter)"
      ],
      "metadata": {
        "colab": {
          "base_uri": "https://localhost:8080/"
        },
        "id": "cCVxBV-fB-30",
        "outputId": "5b81d7e7-f6d6-4540-bde2-4fbb44020131"
      },
      "execution_count": 49,
      "outputs": [
        {
          "output_type": "stream",
          "name": "stdout",
          "text": [
            "[1, 2, 3, 4, 5]\n"
          ]
        }
      ]
    },
    {
      "cell_type": "markdown",
      "source": [
        "19.create a code to find the union of two lists without duplicates."
      ],
      "metadata": {
        "id": "yvaJKxhvDJ3j"
      }
    },
    {
      "cell_type": "code",
      "source": [
        "#create a code to find the union of two lists without duplicates.\n",
        "\n",
        "list1 = [1, 2, 3, 4, 5]\n",
        "list2 = [3, 4, 5, 6, 7]\n",
        "\n",
        "union_set = set(list1).union(set(list2))\n",
        "\n",
        "\n",
        "print(union_set)\n"
      ],
      "metadata": {
        "colab": {
          "base_uri": "https://localhost:8080/"
        },
        "id": "Jch0WDXcChDi",
        "outputId": "fbada509-6832-471c-b91c-0ce1aa98473a"
      },
      "execution_count": 58,
      "outputs": [
        {
          "output_type": "stream",
          "name": "stdout",
          "text": [
            "{1, 2, 3, 4, 5, 6, 7}\n"
          ]
        }
      ]
    },
    {
      "cell_type": "markdown",
      "source": [
        "21.rite a code that takes two tuples as input and returns a new tuple containing elements that are\n",
        "common to both input tuples."
      ],
      "metadata": {
        "id": "3Lv_jRhaEiQq"
      }
    },
    {
      "cell_type": "code",
      "source": [
        "#21.write a code that takes two tuples as input and returns a new tuple containing elements that are\n",
        "#common to both input tuples.\n",
        "\n",
        "tup = tuple(input(\"ENTER 1ST TUP\"))\n",
        "\n",
        "tup1 = tuple(input(\"ENTER 2ND TUP\"))\n",
        "\n",
        "common_elements = [element for element in tup if element in tup1]\n",
        "\n",
        "common_elements_tuple = tuple(common_elements)\n",
        "\n",
        "print(common_elements_tuple)"
      ],
      "metadata": {
        "colab": {
          "base_uri": "https://localhost:8080/"
        },
        "id": "8ErHVK_2DgxI",
        "outputId": "f5079b3f-68d5-4ac1-8544-5c21eff0f1da"
      },
      "execution_count": 67,
      "outputs": [
        {
          "output_type": "stream",
          "name": "stdout",
          "text": [
            "ENTER 1ST TUP1 2 3 4 5\n",
            "ENTER 2ND TUP4 5 6 7\n",
            "(' ', ' ', ' ', '4', ' ', '5')\n"
          ]
        }
      ]
    },
    {
      "cell_type": "markdown",
      "source": [
        "22.create a code that prompts the user to enter two sets of integers separated by commas. Then, print the\n",
        "intersection of these two sets.\n",
        "\n"
      ],
      "metadata": {
        "id": "krJx7G4qHCsr"
      }
    },
    {
      "cell_type": "code",
      "source": [
        "#22.create a code that prompts the user to enter two sets of integers separated by commas. Then, print the\n",
        "#intersection of these two sets.\n",
        "\n",
        "\n",
        "\n",
        "input_set1 = input(\"Enter the first set of integers separated by commas: \")\n",
        "\n",
        "input_set2 = input(\"Enter the second set of integers separated by commas: \")\n",
        "\n",
        "set1 = set(int(x) for x in input_set1.split(','))\n",
        "set2 = set(int(x) for x in input_set2.split(','))\n",
        "\n",
        "intersection = set1.intersection(set2)\n",
        "\n",
        "print( intersection)\n"
      ],
      "metadata": {
        "colab": {
          "base_uri": "https://localhost:8080/"
        },
        "id": "24Q7bPxdFLmX",
        "outputId": "f1ba38aa-c3a7-4423-eac4-337e1d758a11"
      },
      "execution_count": 68,
      "outputs": [
        {
          "output_type": "stream",
          "name": "stdout",
          "text": [
            "Enter the first set of integers separated by commas: 1 , 2,3,4,5\n",
            "Enter the second set of integers separated by commas: 4,5,6,7\n",
            "{4, 5}\n"
          ]
        }
      ]
    },
    {
      "cell_type": "code",
      "source": [
        "#23.Write a code to concatenate two tuples. The function should take two tuples as input and return a new\n",
        "#tuple containing elements from both input tuples.\n",
        "\n",
        "tup = tuple(input(\"ENTER 1ST TUP\"))\n",
        "\n",
        "tup1 = tuple(input(\"ENTER 2ND TUP\"))\n",
        "\n",
        "common_elements = tup + tup1\n",
        "\n",
        "common_elements_tuple = tuple(common_elements)\n",
        "\n",
        "print(common_elements_tuple)"
      ],
      "metadata": {
        "colab": {
          "base_uri": "https://localhost:8080/"
        },
        "id": "5Su--kF-HgmT",
        "outputId": "153960ba-8873-4a72-ee37-aa80e5a5782e"
      },
      "execution_count": 70,
      "outputs": [
        {
          "output_type": "stream",
          "name": "stdout",
          "text": [
            "ENTER 1ST TUP1,2,3,4\n",
            "ENTER 2ND TUP5,6,7\n",
            "('1', ',', '2', ',', '3', ',', '4', '5', ',', '6', ',', '7')\n"
          ]
        }
      ]
    },
    {
      "cell_type": "code",
      "source": [
        "#24. Develop a code that prompts the user to input two sets of strings. Then, print the elements that are\n",
        "#present in the first set but not in the second set.\n",
        "\n",
        "str1 = input(\"Enter 1st string:\")\n",
        "str2 = input(\"Enter 2nd string:\")\n",
        "\n",
        "set1 = set(str1.split(','))\n",
        "set2 = set(str2.split(','))\n",
        "\n",
        "\n",
        "difference = set1.difference(set2)\n",
        "\n",
        "print(difference)"
      ],
      "metadata": {
        "colab": {
          "base_uri": "https://localhost:8080/"
        },
        "id": "Sz6uIii8IA6q",
        "outputId": "3ca9ce26-b7c4-41ac-97a2-a7de6ed1ec2d"
      },
      "execution_count": 72,
      "outputs": [
        {
          "output_type": "stream",
          "name": "stdout",
          "text": [
            "Enter 1st string:i am a doctor\n",
            "Enter 2nd string:i am a teacher\n",
            "{'i am a doctor'}\n"
          ]
        }
      ]
    },
    {
      "cell_type": "code",
      "source": [
        "#26.Write a code that prompts the user to input two sets of characters. Then, print the union of these two sets.\n",
        "\n",
        "input_set1 = input(\"Enter the first set of characters: \")\n",
        "\n",
        "input_set2 = input(\"Enter the second set of characters: \")\n",
        "\n",
        "set1 = set(input_set1)\n",
        "set2 = set(input_set2)\n",
        "\n",
        "union_set = set1.union(set2)\n",
        "\n",
        "print(union_set)\n"
      ],
      "metadata": {
        "colab": {
          "base_uri": "https://localhost:8080/"
        },
        "id": "hw2ZmpkYItIu",
        "outputId": "192c1ba0-351d-4eb0-8213-618626c1fb24"
      },
      "execution_count": 73,
      "outputs": [
        {
          "output_type": "stream",
          "name": "stdout",
          "text": [
            "Enter the first set of characters: a,b,c,d\n",
            "Enter the second set of characters: e,f\n",
            "{'e', 'c', 'a', 'd', 'b', 'f', ','}\n"
          ]
        }
      ]
    },
    {
      "cell_type": "code",
      "source": [
        "#28.create a code that defines two sets of integers. Then, print the union, intersection, and difference of these\n",
        "#two sets\n",
        "\n",
        "set1 = {1, 2, 3, 4, 5}\n",
        "set2 = {4, 5, 6, 7, 8}\n",
        "\n",
        "union_set = set1.union(set2)\n",
        "print(\"Union:\", union_set)\n",
        "\n",
        "intersection_set = set1.intersection(set2)\n",
        "print(\"Intersection:\", intersection_set)\n",
        "\n",
        "difference_set1_set2 = set1.difference(set2)\n",
        "print(\"Difference:\", difference_set1_set2)\n",
        "\n",
        "difference_set2_set1 = set2.difference(set1)\n",
        "print(\"Difference:\", difference_set2_set1)\n"
      ],
      "metadata": {
        "colab": {
          "base_uri": "https://localhost:8080/"
        },
        "id": "Rrw0154TJ5mz",
        "outputId": "cc5b0291-63f7-4368-9df6-2803389e456f"
      },
      "execution_count": 75,
      "outputs": [
        {
          "output_type": "stream",
          "name": "stdout",
          "text": [
            "Union: {1, 2, 3, 4, 5, 6, 7, 8}\n",
            "Intersection: {4, 5}\n",
            "Difference: {1, 2, 3}\n",
            "Difference: {8, 6, 7}\n"
          ]
        }
      ]
    },
    {
      "cell_type": "code",
      "source": [
        "#30.Develop a code that prompts the user to input two sets of strings. Then, print the symmetric difference of\n",
        "#these two sets.\n",
        "\n",
        "input_set1 = input(\"Enter the first set of strings separated by commas: \")\n",
        "\n",
        "input_set2 = input(\"Enter the second set of strings separated by commas: \")\n",
        "\n",
        "set1 = set(input_set1.split(','))\n",
        "set2 = set(input_set2.split(','))\n",
        "\n",
        "symmetric_difference = set1.symmetric_difference(set2)\n",
        "\n",
        "print(symmetric_difference)\n"
      ],
      "metadata": {
        "colab": {
          "base_uri": "https://localhost:8080/"
        },
        "id": "kxyLgE7JKY1N",
        "outputId": "15fb6d65-2d86-439f-dc1a-dc5262a6dab7"
      },
      "execution_count": 76,
      "outputs": [
        {
          "output_type": "stream",
          "name": "stdout",
          "text": [
            "Enter the first set of strings separated by commas: hi,pip,pop,piotp\n",
            "Enter the second set of strings separated by commas: hi,pip\n",
            "{'pop', 'piotp'}\n"
          ]
        }
      ]
    },
    {
      "cell_type": "code",
      "source": [],
      "metadata": {
        "id": "b_yFj-axKx7y"
      },
      "execution_count": null,
      "outputs": []
    }
  ]
}